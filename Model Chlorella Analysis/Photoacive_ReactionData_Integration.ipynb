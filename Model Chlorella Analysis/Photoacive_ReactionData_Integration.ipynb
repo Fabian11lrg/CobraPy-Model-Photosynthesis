{
 "cells": [
  {
   "cell_type": "markdown",
   "metadata": {},
   "source": [
    "##### Creating lists from a .csv file - FALTA AÑADIR RANGO DE 250 A WAVELENGTH Y A FLUX"
   ]
  },
  {
   "cell_type": "code",
   "execution_count": 1,
   "metadata": {},
   "outputs": [],
   "source": [
    "import csv\n",
    "\n",
    "data_file = \"test_vitamin.csv\"\n",
    "\n",
    "with open(data_file, \"r\") as file:\n",
    "    lector = csv.reader(file, delimiter=',')\n",
    "    # Omit header\n",
    "    next(lector, None)\n",
    "    # Create a list for each column\n",
    "    wavelength = []\n",
    "    flux = []\n",
    "    for row in lector:\n",
    "        wavelength.append(float(row[0]))\n",
    "        flux.append(float(row[1]))  "
   ]
  },
  {
   "cell_type": "markdown",
   "metadata": {},
   "source": [
    "##### Data interpolation YA TIENE LISTA A INTERPOLAR CON 250 NM EN ADELANTE"
   ]
  },
  {
   "cell_type": "code",
   "execution_count": null,
   "metadata": {},
   "outputs": [],
   "source": [
    "# Import library\n",
    "from scipy.interpolate import interp1d\n",
    "# List with wavelength values\n",
    "dif_list = []\n",
    "\n",
    "for i in range(0, len(wavelength)-1):\n",
    "    dif = wavelength[i+1] - wavelength[i]\n",
    "    dif_list.append(dif)\n",
    "\n",
    "h = min([value for value in dif_list if value!=0])\n",
    "print(f'The step value is = {h}')\n",
    "\n",
    "new_w = [250]\n",
    "data_pairs = 0\n",
    "while new_w[-1] < wavelength[-1]:\n",
    "    w = new_w[-1] + h\n",
    "    if w < wavelength[-1]:\n",
    "        new_w.append(w)\n",
    "        data_pairs += 1\n",
    "    else:\n",
    "        break\n",
    "\n",
    "interpolate = interp1d(wavelength, flux, kind='linear')\n",
    "\n",
    "# List with interpolated flux values\n",
    "new_f = interpolate(new_w)\n",
    "\n",
    "# See interpolated data\n",
    "# for i in range(len(new_w)):\n",
    "#     print(f'wavelength = {new_w[i]}, flux = {new_f[i]}')"
   ]
  },
  {
   "cell_type": "markdown",
   "metadata": {},
   "source": [
    "#### Function - Simpson's 3/8 Rule "
   ]
  },
  {
   "cell_type": "code",
   "execution_count": 53,
   "metadata": {},
   "outputs": [],
   "source": [
    "def simpson38(x, y):\n",
    "    # x, list which contains values of the independent variable\n",
    "    # y, list which contains values of the dependent variable\n",
    "\n",
    "    # calculating step size\n",
    "    h = (x[-1] - x[0]) / data_pairs\n",
    "    integration = y[0] + y[-1]\n",
    "    \n",
    "    for i in range(1,data_pairs):\n",
    "        k = x[0] + i*h\n",
    "        if i%2 == 0 and k in x:\n",
    "            integration = integration + 2 * y[x.index(k)]\n",
    "        elif i%2 == 0 and k in x == False:\n",
    "            integration = integration + 2 * y[i]\n",
    "        elif i%2 != 0 and k in x:\n",
    "            integration = integration + 3 * y[x.index(k)]\n",
    "        else:\n",
    "            integration = integration + 3 * y[i]\n",
    "    \n",
    "    # Finding final integration value\n",
    "    integration = integration * 3 * h / 8\n",
    "    \n",
    "    return integration"
   ]
  },
  {
   "cell_type": "markdown",
   "metadata": {},
   "source": [
    "##### Finding the integral"
   ]
  },
  {
   "cell_type": "code",
   "execution_count": 54,
   "metadata": {},
   "outputs": [
    {
     "name": "stdout",
     "output_type": "stream",
     "text": [
      "Simpson 3/8 integral = 30452.537500000006\n",
      "scipy integral = 30473.37407407407\n"
     ]
    }
   ],
   "source": [
    "# Integral value usign Simpson's 3/8 Rule\n",
    "integral = simpson38(new_w, new_f)\n",
    "print(f'Simpson 3/8 integral = {integral}')\n",
    "\n",
    "# Integral value usign Scipy method\n",
    "from scipy import integrate\n",
    "integral_2 = integrate.simpson(new_f, new_w)\n",
    "print(f'scipy integral = {integral_2}')"
   ]
  }
 ],
 "metadata": {
  "interpreter": {
   "hash": "c9069875d455caf6ed1c3e9d8afde177f2b0b3808ee767444446b5e23174d251"
  },
  "kernelspec": {
   "display_name": "Python 3.9.12 ('env_integration')",
   "language": "python",
   "name": "python3"
  },
  "language_info": {
   "codemirror_mode": {
    "name": "ipython",
    "version": 3
   },
   "file_extension": ".py",
   "mimetype": "text/x-python",
   "name": "python",
   "nbconvert_exporter": "python",
   "pygments_lexer": "ipython3",
   "version": "3.9.12"
  },
  "orig_nbformat": 4
 },
 "nbformat": 4,
 "nbformat_minor": 2
}
