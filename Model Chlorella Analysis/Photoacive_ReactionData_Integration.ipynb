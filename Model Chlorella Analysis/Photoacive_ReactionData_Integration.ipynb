{
 "cells": [
  {
   "cell_type": "markdown",
   "metadata": {},
   "source": [
    "# Photon Coefficients Calculator for Photoactive or Prism Reactions   "
   ]
  },
  {
   "cell_type": "markdown",
   "metadata": {},
   "source": [
    "## **1.** Import the required packages "
   ]
  },
  {
   "cell_type": "code",
   "execution_count": 3,
   "metadata": {},
   "outputs": [],
   "source": [
    "# Import library\n",
    "from scipy.interpolate import interp1d\n",
    "from pathlib import Path\n",
    "import csv"
   ]
  },
  {
   "cell_type": "markdown",
   "metadata": {},
   "source": [
    "## 2. Import The Data in csv File"
   ]
  },
  {
   "cell_type": "code",
   "execution_count": 157,
   "metadata": {},
   "outputs": [
    {
     "name": "stdout",
     "output_type": "stream",
     "text": [
      "/mnt/c/users/flron/OneDrive/Tesis/Cobrapy Model Development/Models Test/Model Chlorella Analysis/Light emitted from a source/White LED Spectral Irradiance.csv\n"
     ]
    }
   ],
   "source": [
    "Here = Path().absolute()\n",
    "NameDir = '/Light emitted from a source/'\n",
    "NameFile = NameDir + 'White LED Spectral Irradiance'\n",
    "Data_File = str(Here) + NameFile + '.csv'\n",
    "print(Data_File)\n",
    "typeR = 'PrismReaction'"
   ]
  },
  {
   "cell_type": "markdown",
   "metadata": {},
   "source": [
    "##### Creating lists from a .csv file"
   ]
  },
  {
   "cell_type": "code",
   "execution_count": 158,
   "metadata": {},
   "outputs": [],
   "source": [
    "with open(Data_File, \"r\", encoding=\"utf-8\") as f:\n",
    "    lector = csv.reader(f, delimiter=',')\n",
    "    # Omit header\n",
    "    next(lector, None)\n",
    "    # Create a list for each column\n",
    "    wavelength = []\n",
    "    flux = []\n",
    "    for row in lector:\n",
    "        wavelength.append(float(row[0]))\n",
    "        #Column in file to take data\n",
    "        flux.append(float(row[1]))\n",
    "  "
   ]
  },
  {
   "cell_type": "markdown",
   "metadata": {},
   "source": [
    "<p style=\"font-size:10pt\">Sorting the data</p> "
   ]
  },
  {
   "cell_type": "code",
   "execution_count": 159,
   "metadata": {},
   "outputs": [],
   "source": [
    "def sort_list(list1, list2):\n",
    " \n",
    "    zipped_pairs = zip(list2, list1)\n",
    " \n",
    "    z = [x for _, x in sorted(zipped_pairs)]\n",
    "     \n",
    "    return z\n",
    "\n",
    "flux = sort_list(flux, wavelength)\n",
    "wavelength = sorted(wavelength)"
   ]
  },
  {
   "cell_type": "markdown",
   "metadata": {},
   "source": [
    "### **3.** Data interpolation"
   ]
  },
  {
   "cell_type": "markdown",
   "metadata": {},
   "source": [
    "<p style=\"font-size:10pt\">Complement the wavelenght ranges between 250 to 760 nm with 0 Flux</p> "
   ]
  },
  {
   "cell_type": "code",
   "execution_count": 160,
   "metadata": {},
   "outputs": [],
   "source": [
    "steps = 6\n",
    "\n",
    "if wavelength[0] > 250:\n",
    "    lowerRange = wavelength[0] - 250\n",
    "    lowerh = lowerRange/steps\n",
    "    InitWavelength = [250 + i*lowerh for i in range(steps)]\n",
    "    InitFlux = [0 for i in range(steps)]\n",
    "else:\n",
    "    InitWavelength = []\n",
    "    InitFlux = []\n",
    "\n",
    "if wavelength[-1] < 760:\n",
    "    UpperRange = 760 - wavelength[-1]\n",
    "    Upperh = UpperRange/steps\n",
    "    FinalWavelength = [wavelength[-1] + (i+1)*Upperh for i in range(steps)]\n",
    "    FinalFlux = [0 for i in range(steps)]\n",
    "else:\n",
    "    FinalWavelength = []\n",
    "    FinalFlux = []\n",
    "\n",
    "wavelength = InitWavelength + wavelength + FinalWavelength\n",
    "flux = InitFlux + flux + FinalFlux"
   ]
  },
  {
   "cell_type": "markdown",
   "metadata": {},
   "source": [
    "<p style=\"font-size:10pt\">Find the minimal step as difference among two data on x-axis</p>"
   ]
  },
  {
   "cell_type": "code",
   "execution_count": 161,
   "metadata": {},
   "outputs": [
    {
     "name": "stdout",
     "output_type": "stream",
     "text": [
      "The step value is = 2.0\n"
     ]
    }
   ],
   "source": [
    "# List with wavelength values\n",
    "DiffList = []\n",
    "\n",
    "for i in range(0, len(wavelength)-1):\n",
    "    dif = wavelength[i+1] - wavelength[i]\n",
    "    DiffList.append(dif)\n",
    "\n",
    "h = round(min([value for value in DiffList if value!=0]),8)\n",
    "print(f'The step value is = {h}')"
   ]
  },
  {
   "cell_type": "markdown",
   "metadata": {},
   "source": [
    "<p style=\"font-size:10pt\">Generate a new wavelenght vector with a constant step</p>"
   ]
  },
  {
   "cell_type": "code",
   "execution_count": 162,
   "metadata": {},
   "outputs": [],
   "source": [
    "new_w = [wavelength[0]]\n",
    "\n",
    "while new_w[-1] < wavelength[-1]:\n",
    "    w = round(new_w[-1] + h,8)\n",
    "    if w < wavelength[-1]:\n",
    "        new_w.append(w)\n",
    "    else:\n",
    "        break"
   ]
  },
  {
   "cell_type": "markdown",
   "metadata": {},
   "source": [
    "<p style=\"font-size:10pt\">Generation of an interpolation vector of respective data</p> "
   ]
  },
  {
   "cell_type": "code",
   "execution_count": 163,
   "metadata": {},
   "outputs": [
    {
     "name": "stdout",
     "output_type": "stream",
     "text": [
      "wavelength = 250.0, flux = 0.0\n",
      "wavelength = 252.0, flux = 0.0\n",
      "wavelength = 254.0, flux = 0.0\n",
      "wavelength = 256.0, flux = 0.0\n",
      "wavelength = 258.0, flux = 0.0\n",
      "wavelength = 260.0, flux = 0.0\n",
      "wavelength = 262.0, flux = 0.0\n",
      "wavelength = 264.0, flux = 0.0\n",
      "wavelength = 266.0, flux = 0.0\n",
      "wavelength = 268.0, flux = 0.0\n",
      "wavelength = 270.0, flux = 0.0\n",
      "wavelength = 272.0, flux = 0.0\n",
      "wavelength = 274.0, flux = 0.0\n",
      "wavelength = 276.0, flux = 0.0\n",
      "wavelength = 278.0, flux = 0.0\n",
      "wavelength = 280.0, flux = 0.0\n",
      "wavelength = 282.0, flux = 0.0\n",
      "wavelength = 284.0, flux = 0.0\n",
      "wavelength = 286.0, flux = 0.0\n",
      "wavelength = 288.0, flux = 0.0\n",
      "wavelength = 290.0, flux = 0.0\n",
      "wavelength = 292.0, flux = 8.24479999999955e-06\n",
      "wavelength = 294.0, flux = 5.771359999999967e-05\n",
      "wavelength = 296.0, flux = 0.00010718239999999979\n",
      "wavelength = 298.0, flux = 0.0001566511999999999\n",
      "wavelength = 300.0, flux = 0.00020612\n",
      "wavelength = 302.0, flux = 0.000182903\n",
      "wavelength = 304.0, flux = 9e-05\n",
      "wavelength = 306.0, flux = 6.68e-05\n",
      "wavelength = 308.0, flux = -2.83e-06\n",
      "wavelength = 310.0, flux = 0.000113252\n",
      "wavelength = 312.0, flux = 0.00020612\n",
      "wavelength = 314.0, flux = 0.000113252\n",
      "wavelength = 316.0, flux = 0.000113252\n",
      "wavelength = 318.0, flux = 9e-05\n",
      "wavelength = 320.0, flux = 6.68e-05\n",
      "wavelength = 322.0, flux = 0.000113252\n",
      "wavelength = 324.0, flux = 4.36e-05\n",
      "wavelength = 326.0, flux = 0.000136469\n",
      "wavelength = 328.0, flux = 0.000113252\n",
      "wavelength = 330.0, flux = 6.68e-05\n",
      "wavelength = 332.0, flux = 9e-05\n",
      "wavelength = 334.0, flux = 0.000136469\n",
      "wavelength = 336.0, flux = 2.04e-05\n",
      "wavelength = 338.0, flux = 4.36e-05\n",
      "wavelength = 340.0, flux = 6.68e-05\n",
      "wavelength = 342.0, flux = 9e-05\n",
      "wavelength = 344.0, flux = 0.000136469\n",
      "wavelength = 346.0, flux = 4.36e-05\n",
      "wavelength = 348.0, flux = 0.000113252\n",
      "wavelength = 350.0, flux = 4.36e-05\n",
      "wavelength = 352.0, flux = 4.36e-05\n",
      "wavelength = 354.0, flux = 4.36e-05\n",
      "wavelength = 356.0, flux = 4.36e-05\n",
      "wavelength = 358.0, flux = 9e-05\n",
      "wavelength = 360.0, flux = 4.36e-05\n",
      "wavelength = 362.0, flux = 2.04e-05\n",
      "wavelength = 364.0, flux = 9e-05\n",
      "wavelength = 366.0, flux = 4.36e-05\n",
      "wavelength = 368.0, flux = 6.68e-05\n",
      "wavelength = 370.0, flux = 4.36e-05\n",
      "wavelength = 372.0, flux = 6.68e-05\n",
      "wavelength = 374.0, flux = 4.36e-05\n",
      "wavelength = 376.0, flux = 6.68e-05\n",
      "wavelength = 378.0, flux = 4.36e-05\n",
      "wavelength = 380.0, flux = 4.36e-05\n",
      "wavelength = 382.0, flux = 4.36e-05\n",
      "wavelength = 384.0, flux = 4.36e-05\n",
      "wavelength = 386.0, flux = 4.36e-05\n",
      "wavelength = 388.0, flux = 6.68e-05\n",
      "wavelength = 390.0, flux = 4.36e-05\n",
      "wavelength = 392.0, flux = -2.6e-05\n",
      "wavelength = 394.0, flux = -2.83e-06\n",
      "wavelength = 396.0, flux = 2.04e-05\n",
      "wavelength = 398.0, flux = 2.04e-05\n",
      "wavelength = 400.0, flux = 2.04e-05\n",
      "wavelength = 402.0, flux = 4.36e-05\n",
      "wavelength = 404.0, flux = 2.04e-05\n",
      "wavelength = 406.0, flux = -4.93e-05\n",
      "wavelength = 408.0, flux = 4.36e-05\n",
      "wavelength = 410.0, flux = 2.04e-05\n",
      "wavelength = 412.0, flux = 4.36e-05\n",
      "wavelength = 414.0, flux = 6.68e-05\n",
      "wavelength = 416.0, flux = 9e-05\n",
      "wavelength = 418.0, flux = 0.000113252\n",
      "wavelength = 420.0, flux = 0.000136469\n",
      "wavelength = 422.0, flux = 0.000136469\n",
      "wavelength = 424.0, flux = 0.000229337\n",
      "wavelength = 426.0, flux = 0.000252554\n",
      "wavelength = 428.0, flux = 0.000275771\n",
      "wavelength = 430.0, flux = 0.000391856\n",
      "wavelength = 432.0, flux = 0.000484724\n",
      "wavelength = 434.0, flux = 0.000298988\n",
      "wavelength = 436.0, flux = 0.000647242\n",
      "wavelength = 438.0, flux = 0.000786544\n",
      "wavelength = 440.0, flux = 0.000879412\n",
      "wavelength = 442.0, flux = 0.00097228\n",
      "wavelength = 444.0, flux = 0.001204449\n",
      "wavelength = 446.0, flux = 0.001366968\n",
      "wavelength = 448.0, flux = 0.001552704\n",
      "wavelength = 450.0, flux = 0.001831308\n",
      "wavelength = 452.0, flux = 0.002133128\n",
      "wavelength = 454.0, flux = 0.0025046\n",
      "wavelength = 456.0, flux = 0.002899288\n",
      "wavelength = 458.0, flux = 0.00357258\n",
      "wavelength = 460.0, flux = 0.004176221\n",
      "wavelength = 462.0, flux = 0.004756645\n",
      "wavelength = 464.0, flux = 0.005569239\n",
      "wavelength = 466.0, flux = 0.006126446\n",
      "wavelength = 468.0, flux = 0.006683654\n",
      "wavelength = 470.0, flux = 0.007287295\n",
      "wavelength = 472.0, flux = 0.007635549\n",
      "wavelength = 474.0, flux = 0.007914153\n",
      "wavelength = 476.0, flux = 0.008169539\n",
      "wavelength = 478.0, flux = 0.008355275\n",
      "wavelength = 480.0, flux = 0.008541011\n",
      "wavelength = 482.0, flux = 0.008749963\n",
      "wavelength = 484.0, flux = 0.00900535\n",
      "wavelength = 486.0, flux = 0.009214303\n",
      "wavelength = 488.0, flux = 0.009400039\n",
      "wavelength = 490.0, flux = 0.009608991\n",
      "wavelength = 492.0, flux = 0.00977151\n",
      "wavelength = 494.0, flux = 0.009887595\n",
      "wavelength = 496.0, flux = 0.010026897\n",
      "wavelength = 498.0, flux = 0.010166198\n",
      "wavelength = 500.0, flux = 0.010282283\n",
      "wavelength = 502.0, flux = 0.010468019\n",
      "wavelength = 504.0, flux = 0.010793057\n",
      "wavelength = 506.0, flux = 0.011048443\n",
      "wavelength = 508.0, flux = 0.011350264\n",
      "wavelength = 510.0, flux = 0.011768169\n",
      "wavelength = 512.0, flux = 0.012255725\n",
      "wavelength = 514.0, flux = 0.012720065\n",
      "wavelength = 516.0, flux = 0.013439791\n",
      "wavelength = 518.0, flux = 0.014020215\n",
      "wavelength = 520.0, flux = 0.014647073\n",
      "wavelength = 522.0, flux = 0.015552535\n",
      "wavelength = 524.0, flux = 0.016272261\n",
      "wavelength = 526.0, flux = 0.016991986\n",
      "wavelength = 528.0, flux = 0.017734929\n",
      "wavelength = 530.0, flux = 0.018593957\n",
      "wavelength = 532.0, flux = 0.019360117\n",
      "wavelength = 534.0, flux = 0.020033409\n",
      "wavelength = 536.0, flux = 0.020938871\n",
      "wavelength = 538.0, flux = 0.021612163\n",
      "wavelength = 540.0, flux = 0.02216937\n",
      "wavelength = 542.0, flux = 0.022819445\n",
      "wavelength = 544.0, flux = 0.023260567\n",
      "wavelength = 546.0, flux = 0.023678473\n",
      "wavelength = 548.0, flux = 0.024026727\n",
      "wavelength = 550.0, flux = 0.024607151\n",
      "wavelength = 552.0, flux = 0.025048274\n",
      "wavelength = 554.0, flux = 0.025466179\n",
      "wavelength = 556.0, flux = 0.025884085\n",
      "wavelength = 558.0, flux = 0.026116254\n",
      "wavelength = 560.0, flux = 0.026093037\n",
      "wavelength = 562.0, flux = 0.026441292\n",
      "wavelength = 564.0, flux = 0.026627027\n",
      "wavelength = 566.0, flux = 0.026812763\n",
      "wavelength = 568.0, flux = 0.026975282\n",
      "wavelength = 570.0, flux = 0.027161018\n",
      "wavelength = 572.0, flux = 0.027253886\n",
      "wavelength = 574.0, flux = 0.027300319\n",
      "wavelength = 576.0, flux = 0.027393187\n",
      "wavelength = 578.0, flux = 0.027416404\n",
      "wavelength = 580.0, flux = 0.027439621\n",
      "wavelength = 582.0, flux = 0.027439621\n",
      "wavelength = 584.0, flux = 0.027416404\n",
      "wavelength = 586.0, flux = 0.027346753\n",
      "wavelength = 588.0, flux = 0.027277103\n",
      "wavelength = 590.0, flux = 0.027207452\n",
      "wavelength = 592.0, flux = 0.02706815\n",
      "wavelength = 594.0, flux = 0.026975282\n",
      "wavelength = 596.0, flux = 0.02683598\n",
      "wavelength = 598.0, flux = 0.026650244\n",
      "wavelength = 600.0, flux = 0.026487726\n",
      "wavelength = 602.0, flux = 0.026209122\n",
      "wavelength = 604.0, flux = 0.026023386\n",
      "wavelength = 606.0, flux = 0.025814434\n",
      "wavelength = 608.0, flux = 0.025559047\n",
      "wavelength = 610.0, flux = 0.025326877\n",
      "wavelength = 612.0, flux = 0.025094708\n",
      "wavelength = 614.0, flux = 0.024792887\n",
      "wavelength = 616.0, flux = 0.024398199\n",
      "wavelength = 618.0, flux = 0.024049944\n",
      "wavelength = 620.0, flux = 0.023748124\n",
      "wavelength = 622.0, flux = 0.023307001\n",
      "wavelength = 624.0, flux = 0.022981964\n",
      "wavelength = 626.0, flux = 0.022610492\n",
      "wavelength = 628.0, flux = 0.022146153\n",
      "wavelength = 630.0, flux = 0.021751465\n",
      "wavelength = 632.0, flux = 0.021356776\n",
      "wavelength = 634.0, flux = 0.020892437\n",
      "wavelength = 636.0, flux = 0.020451314\n",
      "wavelength = 638.0, flux = 0.020079843\n",
      "wavelength = 640.0, flux = 0.019638721\n",
      "wavelength = 642.0, flux = 0.019174381\n",
      "wavelength = 644.0, flux = 0.018710042\n",
      "wavelength = 646.0, flux = 0.018315354\n",
      "wavelength = 648.0, flux = 0.017781363\n",
      "wavelength = 650.0, flux = 0.017363458\n",
      "wavelength = 652.0, flux = 0.016922336\n",
      "wavelength = 654.0, flux = 0.016411562\n",
      "wavelength = 656.0, flux = 0.01597044\n",
      "wavelength = 658.0, flux = 0.015575752\n",
      "wavelength = 660.0, flux = 0.015157846\n",
      "wavelength = 662.0, flux = 0.01467029\n",
      "wavelength = 664.0, flux = 0.014252384\n",
      "wavelength = 666.0, flux = 0.013857696\n",
      "wavelength = 668.0, flux = 0.013346923\n",
      "wavelength = 670.0, flux = 0.012952234\n",
      "wavelength = 672.0, flux = 0.01260398\n",
      "wavelength = 674.0, flux = 0.012139641\n",
      "wavelength = 676.0, flux = 0.011791386\n",
      "wavelength = 678.0, flux = 0.011396698\n",
      "wavelength = 680.0, flux = 0.010955575\n",
      "wavelength = 682.0, flux = 0.010584104\n",
      "wavelength = 684.0, flux = 0.010259066\n",
      "wavelength = 686.0, flux = 0.009934029\n",
      "wavelength = 688.0, flux = 0.009516123\n",
      "wavelength = 690.0, flux = 0.00923752\n",
      "wavelength = 692.0, flux = 0.008912482\n",
      "wavelength = 694.0, flux = 0.008541011\n",
      "wavelength = 696.0, flux = 0.00823919\n",
      "wavelength = 698.0, flux = 0.007983804\n",
      "wavelength = 700.0, flux = 0.007589115\n",
      "wavelength = 702.0, flux = 0.007380162\n",
      "wavelength = 704.0, flux = 0.007124776\n",
      "wavelength = 706.0, flux = 0.006892606\n",
      "wavelength = 708.0, flux = 0.006590786\n",
      "wavelength = 710.0, flux = 0.006335399\n",
      "wavelength = 712.0, flux = 0.006126446\n",
      "wavelength = 714.0, flux = 0.00587106\n",
      "wavelength = 716.0, flux = 0.00563889\n",
      "wavelength = 718.0, flux = 0.005453154\n",
      "wavelength = 720.0, flux = 0.005174551\n",
      "wavelength = 722.0, flux = 0.005012032\n",
      "wavelength = 724.0, flux = 0.004826296\n",
      "wavelength = 726.0, flux = 0.004663777\n",
      "wavelength = 728.0, flux = 0.004454825\n",
      "wavelength = 730.0, flux = 0.004245872\n",
      "wavelength = 732.0, flux = 0.004083353\n",
      "wavelength = 734.0, flux = 0.003920835\n",
      "wavelength = 736.0, flux = 0.003758316\n",
      "wavelength = 738.0, flux = 0.003619014\n",
      "wavelength = 740.0, flux = 0.003386844\n",
      "wavelength = 742.0, flux = 0.003270759\n",
      "wavelength = 744.0, flux = 0.003201109\n",
      "wavelength = 746.0, flux = 0.003015373\n",
      "wavelength = 748.0, flux = 0.002922505\n",
      "wavelength = 750.0, flux = 0.002829637\n",
      "wavelength = 752.0, flux = 0.002736769\n",
      "wavelength = 754.0, flux = 0.002643901\n",
      "wavelength = 756.0, flux = 0.0025046\n",
      "wavelength = 758.0, flux = 0.002411732\n",
      "wavelength = 760.0, flux = 0.002318864\n",
      "wavelength = 762.0, flux = 0.002225996\n",
      "wavelength = 764.0, flux = 0.002109911\n",
      "wavelength = 766.0, flux = 0.00204026\n",
      "wavelength = 768.0, flux = 0.001947392\n",
      "wavelength = 770.0, flux = 0.001877742\n",
      "wavelength = 772.0, flux = 0.001784874\n",
      "wavelength = 774.0, flux = 0.00173844\n",
      "wavelength = 776.0, flux = 0.001622355\n",
      "wavelength = 778.0, flux = 0.001575921\n",
      "wavelength = 780.0, flux = 0.001483053\n",
      "wavelength = 782.0, flux = 0.001390185\n",
      "wavelength = 784.0, flux = 0.001343751\n",
      "wavelength = 786.0, flux = 0.001297317\n",
      "wavelength = 788.0, flux = 0.001250883\n",
      "wavelength = 790.0, flux = 0.001227666\n",
      "wavelength = 792.0, flux = 0.001134799\n",
      "wavelength = 794.0, flux = 0.001111582\n",
      "wavelength = 796.0, flux = 0.001088365\n",
      "wavelength = 798.0, flux = 0.001018714\n",
      "wavelength = 800.0, flux = 0.000995497\n",
      "wavelength = 802.0, flux = 0.000949063\n",
      "wavelength = 804.0, flux = 0.000902629\n",
      "wavelength = 806.0, flux = 0.000879412\n",
      "wavelength = 808.0, flux = 0.000832978\n",
      "wavelength = 810.0, flux = 0.000809761\n",
      "wavelength = 812.0, flux = 0.000786544\n",
      "wavelength = 814.0, flux = 0.000763327\n",
      "wavelength = 816.0, flux = 0.00074011\n",
      "wavelength = 818.0, flux = 0.000670459\n",
      "wavelength = 820.0, flux = 0.000693676\n",
      "wavelength = 822.0, flux = 0.000624025\n",
      "wavelength = 824.0, flux = 0.000600808\n",
      "wavelength = 826.0, flux = 0.000577591\n",
      "wavelength = 828.0, flux = 0.000577591\n",
      "wavelength = 830.0, flux = 0.000484724\n",
      "wavelength = 832.0, flux = 0.00050794\n",
      "wavelength = 834.0, flux = 0.000531157\n",
      "wavelength = 836.0, flux = 0.000461507\n",
      "wavelength = 838.0, flux = 0.000461507\n",
      "wavelength = 840.0, flux = 0.000391856\n",
      "wavelength = 842.0, flux = 0.000368639\n",
      "wavelength = 844.0, flux = 0.000415073\n",
      "wavelength = 846.0, flux = 0.000368639\n",
      "wavelength = 848.0, flux = 0.000391856\n",
      "wavelength = 850.0, flux = 0.000322205\n",
      "wavelength = 852.0, flux = 0.000345422\n",
      "wavelength = 854.0, flux = 0.000322205\n",
      "wavelength = 856.0, flux = 0.000345422\n",
      "wavelength = 858.0, flux = 0.000275771\n",
      "wavelength = 860.0, flux = 0.000298988\n",
      "wavelength = 862.0, flux = 0.000159686\n",
      "wavelength = 864.0, flux = 0.000275771\n",
      "wavelength = 866.0, flux = 0.000275771\n",
      "wavelength = 868.0, flux = 0.000275771\n",
      "wavelength = 870.0, flux = 0.000252554\n",
      "wavelength = 872.0, flux = 0.000229337\n",
      "wavelength = 874.0, flux = 0.000252554\n",
      "wavelength = 876.0, flux = 0.000252554\n",
      "wavelength = 878.0, flux = 0.000229337\n",
      "wavelength = 880.0, flux = 0.000229337\n",
      "wavelength = 882.0, flux = 0.000182903\n",
      "wavelength = 884.0, flux = 0.000252554\n",
      "wavelength = 886.0, flux = 0.000229337\n",
      "wavelength = 888.0, flux = 0.000113252\n",
      "wavelength = 890.0, flux = 0.00020612\n",
      "wavelength = 892.0, flux = 6.68e-05\n",
      "wavelength = 894.0, flux = 0.000182903\n",
      "wavelength = 896.0, flux = 0.000136469\n",
      "wavelength = 898.0, flux = 9e-05\n"
     ]
    }
   ],
   "source": [
    "interpolate = interp1d(wavelength, flux, kind='linear')\n",
    "\n",
    "# List with interpolated flux values\n",
    "new_f = interpolate(new_w)\n",
    "\n",
    "# See interpolated data\n",
    "for i in range(len(new_w)):\n",
    "    print(f'wavelength = {new_w[i]}, flux = {new_f[i]}')"
   ]
  },
  {
   "cell_type": "markdown",
   "metadata": {},
   "source": [
    "<p style=\"font-size:10pt\">Print the Interpolated Data</p> "
   ]
  },
  {
   "cell_type": "code",
   "execution_count": 164,
   "metadata": {},
   "outputs": [],
   "source": [
    "with open(str(Here) + NameFile + \"_Interpolated.csv\", \"w\", encoding=\"utf-8\") as f:\n",
    "    for w in new_w:\n",
    "        f.write(\"%f, %f %s\" % (w, new_f[new_w.index(w)],\"\\n\"))"
   ]
  },
  {
   "cell_type": "markdown",
   "metadata": {},
   "source": [
    "### **4.** Function - Simpson's 3/8 Rule "
   ]
  },
  {
   "cell_type": "markdown",
   "metadata": {},
   "source": [
    "<p style=\"font-size:10pt\">Simpson's 3/8 Integration</p> "
   ]
  },
  {
   "cell_type": "code",
   "execution_count": 165,
   "metadata": {},
   "outputs": [],
   "source": [
    "def simpson38(x, y):\n",
    "    # x, list which contains values of the independent variable\n",
    "    # y, list which contains values of the dependent variable\n",
    "\n",
    "    # calculating step size\n",
    "    data_pairs = len(x)-1\n",
    "    h = (x[-1] - x[0]) / data_pairs\n",
    "    integration = y[0] + y[-1]\n",
    "    \n",
    "    for i in range(1,data_pairs):\n",
    "        k = x[0] + i*h\n",
    "        if i%2 == 0 and k in x:\n",
    "            integration = integration + 2 * round(y[x.index(k)], 8)\n",
    "        elif i%2 == 0 and k in x == False:\n",
    "            integration = integration + 2 * round(y[i], 8)\n",
    "        elif i%2 != 0 and k in x:\n",
    "            integration = integration + 3 * round(y[x.index(k)], 8)\n",
    "        else:\n",
    "            integration = integration + 3 * round(y[i], 8)\n",
    "    \n",
    "    # Finding final integration value\n",
    "    integration = integration * 3 * h / 8\n",
    "    \n",
    "    return integration"
   ]
  },
  {
   "cell_type": "markdown",
   "metadata": {},
   "source": [
    "<p style=\"font-size:10pt\">Defining the Photon vector</p> "
   ]
  },
  {
   "cell_type": "code",
   "execution_count": 166,
   "metadata": {},
   "outputs": [
    {
     "data": {
      "text/plain": [
       "{'photon265': {'low': 250, 'up': 280},\n",
       " 'photon295': {'low': 280, 'up': 310},\n",
       " 'photon325': {'low': 310, 'up': 340},\n",
       " 'photon355': {'low': 340, 'up': 370},\n",
       " 'photon385': {'low': 370, 'up': 400},\n",
       " 'photon415': {'low': 400, 'up': 430},\n",
       " 'photon445': {'low': 430, 'up': 460},\n",
       " 'photon475': {'low': 460, 'up': 490},\n",
       " 'photon505': {'low': 490, 'up': 520},\n",
       " 'photon535': {'low': 520, 'up': 550},\n",
       " 'photon565': {'low': 550, 'up': 580},\n",
       " 'photon595': {'low': 580, 'up': 610},\n",
       " 'photon625': {'low': 610, 'up': 640},\n",
       " 'photon655': {'low': 640, 'up': 670},\n",
       " 'photon685': {'low': 670, 'up': 700},\n",
       " 'photon715': {'low': 700, 'up': 730},\n",
       " 'photon745': {'low': 730, 'up': 760}}"
      ]
     },
     "execution_count": 166,
     "metadata": {},
     "output_type": "execute_result"
    }
   ],
   "source": [
    "photStep = 30\n",
    "PhotonVect = {'photon'+str(int(250 + (i+0.5)*photStep)): {\"low\":250+i*photStep, \"up\":250+(i+1)*photStep} for i in range(int(500/photStep)+1)}\n",
    "\n",
    "PhotonVect"
   ]
  },
  {
   "cell_type": "markdown",
   "metadata": {},
   "source": [
    "### **5.** Integrate the Results"
   ]
  },
  {
   "cell_type": "markdown",
   "metadata": {},
   "source": [
    "<p style=\"font-size:10pt\">Finding the Whole Integral</p> "
   ]
  },
  {
   "cell_type": "code",
   "execution_count": 167,
   "metadata": {},
   "outputs": [
    {
     "name": "stdout",
     "output_type": "stream",
     "text": [
      "Simpson 3/8 integral = 4.3839137474999985\n",
      "scipy integral = 4.676185210933333\n",
      "Error: 6.666907\n"
     ]
    }
   ],
   "source": [
    "# Integral value usign Simpson's 3/8 Rule\n",
    "integral = simpson38(new_w, new_f)\n",
    "print(f'Simpson 3/8 integral = {integral}')\n",
    "\n",
    "# Integral value usign Scipy method\n",
    "from scipy import integrate\n",
    "integral_2 = integrate.simpson(new_f, new_w)\n",
    "print(f'scipy integral = {integral_2}')\n",
    "\n",
    "print ('Error: %f' % (100*abs(integral_2-integral)/integral))"
   ]
  },
  {
   "cell_type": "markdown",
   "metadata": {},
   "source": [
    "<p style=\"font-size:10pt\">Integration by wavelength range</p> "
   ]
  },
  {
   "cell_type": "code",
   "execution_count": 168,
   "metadata": {},
   "outputs": [
    {
     "name": "stdout",
     "output_type": "stream",
     "text": [
      "Photon vector = photon265,  low limit = 250, high limit = 280, Simpson 3/8 integral = 0.0\n",
      "Photon vector = photon295,  low limit = 280, high limit = 310, Simpson 3/8 integral = 0.0016593225000000001\n",
      "Photon vector = photon325,  low limit = 310, high limit = 340, Simpson 3/8 integral = 0.0025721940000000007\n",
      "Photon vector = photon355,  low limit = 340, high limit = 370, Simpson 3/8 integral = 0.00164928\n",
      "Photon vector = photon385,  low limit = 370, high limit = 400, Simpson 3/8 integral = 0.001005255\n",
      "Photon vector = photon415,  low limit = 400, high limit = 430, Simpson 3/8 integral = 0.00238072575\n",
      "Photon vector = photon445,  low limit = 430, high limit = 460, Simpson 3/8 integral = 0.036666477\n",
      "Photon vector = photon475,  low limit = 460, high limit = 490, Simpson 3/8 integral = 0.19649790749999999\n",
      "Photon vector = photon505,  low limit = 490, high limit = 520, Simpson 3/8 integral = 0.29212855950000005\n",
      "Photon vector = photon535,  low limit = 520, high limit = 550, Simpson 3/8 integral = 0.5219939625\n",
      "Photon vector = photon565,  low limit = 550, high limit = 580, Simpson 3/8 integral = 0.69483265125\n",
      "Photon vector = photon595,  low limit = 580, high limit = 610, Simpson 3/8 integral = 0.7036086284999999\n",
      "Photon vector = photon625,  low limit = 610, high limit = 640, Simpson 3/8 integral = 0.6005601375\n",
      "Photon vector = photon655,  low limit = 640, high limit = 670, Simpson 3/8 integral = 0.4325099505000001\n",
      "Photon vector = photon685,  low limit = 670, high limit = 700, Simpson 3/8 integral = 0.271076601\n",
      "Photon vector = photon715,  low limit = 700, high limit = 730, Simpson 3/8 integral = 0.1558740225\n",
      "Photon vector = photon745,  low limit = 730, high limit = 760, Simpson 3/8 integral = 0.0847778355\n",
      "Total integral = 3.9997935105\n"
     ]
    }
   ],
   "source": [
    "integralTotal = 0\n",
    "\n",
    "for j, k in PhotonVect.items():\n",
    "    low_w = k.get('low')\n",
    "    high_w= k.get('up')\n",
    "    \n",
    "    low_index = 0\n",
    "    while new_w[low_index] < low_w:\n",
    "        low_index += 1\n",
    "\n",
    "    high_index = 0\n",
    "    while new_w[high_index] < high_w :\n",
    "        if not high_index == len(new_w)-1:\n",
    "            high_index += 1\n",
    "        else:\n",
    "            break\n",
    "    \n",
    "    integralPhoton = simpson38(new_w[low_index:high_index], new_f[low_index:high_index])\n",
    "    PhotonVect[j] = k | {\"Integral\":integralPhoton} \n",
    "    print(f'Photon vector = {j},  low limit = {low_w}, high limit = {high_w}, Simpson 3/8 integral = {integralPhoton}')\n",
    "    integralTotal += integralPhoton\n",
    "\n",
    "print(f'Total integral = {integralTotal}')"
   ]
  },
  {
   "cell_type": "markdown",
   "metadata": {},
   "source": [
    "<p style=\"font-size:10pt\">Getting Stoichiometric coefficients</p> "
   ]
  },
  {
   "cell_type": "code",
   "execution_count": 169,
   "metadata": {},
   "outputs": [
    {
     "data": {
      "text/plain": [
       "{'photon265': {'low': 250, 'up': 280, 'Integral': 0.0, 'Coefficient': 0.0},\n",
       " 'photon295': {'low': 280,\n",
       "  'up': 310,\n",
       "  'Integral': 0.0016593225000000001,\n",
       "  'Coefficient': 0.00041485204064761185},\n",
       " 'photon325': {'low': 310,\n",
       "  'up': 340,\n",
       "  'Integral': 0.0025721940000000007,\n",
       "  'Coefficient': 0.0006430816974045393},\n",
       " 'photon355': {'low': 340,\n",
       "  'up': 370,\n",
       "  'Integral': 0.00164928,\n",
       "  'Coefficient': 0.00041234128603649575},\n",
       " 'photon385': {'low': 370,\n",
       "  'up': 400,\n",
       "  'Integral': 0.001005255,\n",
       "  'Coefficient': 0.0002513267240823981},\n",
       " 'photon415': {'low': 400,\n",
       "  'up': 430,\n",
       "  'Integral': 0.00238072575,\n",
       "  'Coefficient': 0.0005952121637655224},\n",
       " 'photon445': {'low': 430,\n",
       "  'up': 460,\n",
       "  'Integral': 0.036666477,\n",
       "  'Coefficient': 0.009167092477085513},\n",
       " 'photon475': {'low': 460,\n",
       "  'up': 490,\n",
       "  'Integral': 0.19649790749999999,\n",
       "  'Coefficient': 0.049127012928084},\n",
       " 'photon505': {'low': 490,\n",
       "  'up': 520,\n",
       "  'Integral': 0.29212855950000005,\n",
       "  'Coefficient': 0.07303591016214286},\n",
       " 'photon535': {'low': 520,\n",
       "  'up': 550,\n",
       "  'Integral': 0.5219939625,\n",
       "  'Coefficient': 0.13050522761479938},\n",
       " 'photon565': {'low': 550,\n",
       "  'up': 580,\n",
       "  'Integral': 0.69483265125,\n",
       "  'Coefficient': 0.17371713050335477},\n",
       " 'photon595': {'low': 580,\n",
       "  'up': 610,\n",
       "  'Integral': 0.7036086284999999,\n",
       "  'Coefficient': 0.17591123808089892},\n",
       " 'photon625': {'low': 610,\n",
       "  'up': 640,\n",
       "  'Integral': 0.6005601375,\n",
       "  'Coefficient': 0.1501477853602813},\n",
       " 'photon655': {'low': 640,\n",
       "  'up': 670,\n",
       "  'Integral': 0.4325099505000001,\n",
       "  'Coefficient': 0.10813306971087454},\n",
       " 'photon685': {'low': 670,\n",
       "  'up': 700,\n",
       "  'Integral': 0.271076601,\n",
       "  'Coefficient': 0.0677726488350929},\n",
       " 'photon715': {'low': 700,\n",
       "  'up': 730,\n",
       "  'Integral': 0.1558740225,\n",
       "  'Coefficient': 0.03897051737566191},\n",
       " 'photon745': {'low': 730,\n",
       "  'up': 760,\n",
       "  'Integral': 0.0847778355,\n",
       "  'Coefficient': 0.021195553039787353}}"
      ]
     },
     "execution_count": 169,
     "metadata": {},
     "output_type": "execute_result"
    }
   ],
   "source": [
    "coeff = []\n",
    "\n",
    "if typeR == 'PhotoReaction':\n",
    "    for j, k in PhotonVect.items():\n",
    "        PhotoActiveArea = k.get('Integral')\n",
    "        if PhotoActiveArea != 0:\n",
    "            coeff.append(integralTotal/PhotoActiveArea)\n",
    "        else:\n",
    "            coeff.append(5000)\n",
    "    \n",
    "    min_coeff = min([abs(c) for c in coeff])\n",
    "    coeff = [abs(c)/min_coeff for c in coeff]\n",
    "elif typeR == 'PrismReaction':\n",
    "    for j, k in PhotonVect.items():\n",
    "        PhotoActiveArea = k.get('Integral')\n",
    "        coeff.append(PhotoActiveArea/integralTotal)\n",
    "\n",
    "count = 0\n",
    "\n",
    "for j, k in PhotonVect.items():\n",
    "    PhotonVect[j] = k | {\"Coefficient\":coeff[count]}\n",
    "    count += 1\n",
    "\n",
    "PhotonVect"
   ]
  },
  {
   "cell_type": "markdown",
   "metadata": {},
   "source": [
    "### **6.** Print the coefficcients for each reaction in a file"
   ]
  },
  {
   "cell_type": "code",
   "execution_count": 170,
   "metadata": {},
   "outputs": [],
   "source": [
    "Reaction = 'White LED Spectral Irradiance'\n",
    "\n",
    "with open(str(Here) + NameDir + typeR +\" Coefficients.csv\", \"a\", encoding=\"utf-8\") as f:\n",
    "    for name, Dir in PhotonVect.items():\n",
    "        low_w = Dir.get('low')\n",
    "        up_w = Dir.get('up')\n",
    "        StCoef = Dir.get('Coefficient')\n",
    "        f.write(\"%s, %s, %i, %i, %f %s\" % (Reaction, name, low_w, up_w, StCoef,\"\\n\"))"
   ]
  }
 ],
 "metadata": {
  "interpreter": {
   "hash": "e78b838dbb92c3e34af49e05b7fd192af0845ab0b8745d0e9653886abbbfd993"
  },
  "kernelspec": {
   "display_name": "Python 3.9.7 ('cobrapy_env')",
   "language": "python",
   "name": "python3"
  },
  "language_info": {
   "codemirror_mode": {
    "name": "ipython",
    "version": 3
   },
   "file_extension": ".py",
   "mimetype": "text/x-python",
   "name": "python",
   "nbconvert_exporter": "python",
   "pygments_lexer": "ipython3",
   "version": "3.9.7"
  },
  "orig_nbformat": 4
 },
 "nbformat": 4,
 "nbformat_minor": 2
}
