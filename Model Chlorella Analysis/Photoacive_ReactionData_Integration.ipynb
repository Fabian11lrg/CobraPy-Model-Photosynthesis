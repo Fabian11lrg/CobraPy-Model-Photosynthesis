{
 "cells": [
  {
   "cell_type": "markdown",
   "metadata": {},
   "source": [
    "# Photon Coefficients Calculator for Photoactive or Prism Reactions   "
   ]
  },
  {
   "cell_type": "markdown",
   "metadata": {},
   "source": [
    "## **1.** Import the required packages "
   ]
  },
  {
   "cell_type": "code",
   "execution_count": 1,
   "metadata": {},
   "outputs": [],
   "source": [
    "# Import library\n",
    "from scipy.interpolate import interp1d\n",
    "from pathlib import Path\n",
    "import csv"
   ]
  },
  {
   "cell_type": "markdown",
   "metadata": {},
   "source": [
    "## 2. Import The Data in csv File"
   ]
  },
  {
   "cell_type": "code",
   "execution_count": 131,
   "metadata": {},
   "outputs": [
    {
     "name": "stdout",
     "output_type": "stream",
     "text": [
      "/mnt/c/users/flron/OneDrive/Tesis/Cobrapy Model Development/Models Test/Model Chlorella Analysis/Photoactive Reactions/Xanthophylls Action Absorption .csv\n"
     ]
    }
   ],
   "source": [
    "Here = Path().absolute()\n",
    "NameDir = '/Photoactive Reactions/'\n",
    "NameFile = NameDir + 'Xanthophylls Action Absorption '\n",
    "Data_File = str(Here) + NameFile + '.csv'\n",
    "print(Data_File)\n",
    "typeR = 'PhotoReaction'"
   ]
  },
  {
   "cell_type": "markdown",
   "metadata": {},
   "source": [
    "##### Creating lists from a .csv file"
   ]
  },
  {
   "cell_type": "code",
   "execution_count": 132,
   "metadata": {},
   "outputs": [],
   "source": [
    "with open(Data_File, \"r\", encoding=\"utf-8\") as f:\n",
    "    lector = csv.reader(f, delimiter=',')\n",
    "    # Omit header\n",
    "    # next(lector, None)\n",
    "    # Create a list for each column\n",
    "    wavelength = []\n",
    "    flux = []\n",
    "    for row in lector:\n",
    "        wavelength.append(float(row[0]))\n",
    "        flux.append(float(row[1]))\n",
    "  "
   ]
  },
  {
   "cell_type": "markdown",
   "metadata": {},
   "source": [
    "<p style=\"font-size:10pt\">Sorting the data</p> "
   ]
  },
  {
   "cell_type": "code",
   "execution_count": 133,
   "metadata": {},
   "outputs": [],
   "source": [
    "def sort_list(list1, list2):\n",
    " \n",
    "    zipped_pairs = zip(list2, list1)\n",
    " \n",
    "    z = [x for _, x in sorted(zipped_pairs)]\n",
    "     \n",
    "    return z\n",
    "\n",
    "flux = sort_list(flux, wavelength)\n",
    "wavelength = sorted(wavelength)"
   ]
  },
  {
   "cell_type": "markdown",
   "metadata": {},
   "source": [
    "### **3.** Data interpolation"
   ]
  },
  {
   "cell_type": "markdown",
   "metadata": {},
   "source": [
    "<p style=\"font-size:10pt\">Complement the wavelenght ranges between 250 to 750 nm with 0 Flux</p> "
   ]
  },
  {
   "cell_type": "code",
   "execution_count": 134,
   "metadata": {},
   "outputs": [],
   "source": [
    "steps = 6\n",
    "\n",
    "if wavelength[0] > 250:\n",
    "    lowerRange = wavelength[0] - 250\n",
    "    lowerh = lowerRange/steps\n",
    "    InitWavelength = [250 + i*lowerh for i in range(steps)]\n",
    "    InitFlux = [0 for i in range(steps)]\n",
    "else:\n",
    "    InitWavelength = []\n",
    "    InitFlux = []\n",
    "\n",
    "if wavelength[-1] < 750:\n",
    "    UpperRange = 750 - wavelength[-1]\n",
    "    Upperh = UpperRange/steps\n",
    "    FinalWavelength = [wavelength[-1] + (i+1)*Upperh for i in range(steps)]\n",
    "    FinalFlux = [0 for i in range(steps)]\n",
    "else:\n",
    "    FinalWavelength = []\n",
    "    FinalFlux = []\n",
    "\n",
    "wavelength = InitWavelength + wavelength + FinalWavelength\n",
    "flux = InitFlux + flux + FinalFlux"
   ]
  },
  {
   "cell_type": "markdown",
   "metadata": {},
   "source": [
    "<p style=\"font-size:10pt\">Find the minimal step as difference among two data on x-axis</p>"
   ]
  },
  {
   "cell_type": "code",
   "execution_count": 135,
   "metadata": {},
   "outputs": [
    {
     "name": "stdout",
     "output_type": "stream",
     "text": [
      "The step value is = 2.0\n"
     ]
    }
   ],
   "source": [
    "# List with wavelength values\n",
    "DiffList = []\n",
    "\n",
    "for i in range(0, len(wavelength)-1):\n",
    "    dif = wavelength[i+1] - wavelength[i]\n",
    "    DiffList.append(dif)\n",
    "\n",
    "h = round(min([value for value in DiffList if value!=0]),8)\n",
    "print(f'The step value is = {h}')"
   ]
  },
  {
   "cell_type": "markdown",
   "metadata": {},
   "source": [
    "<p style=\"font-size:10pt\">Generate a new wavelenght vector with a constant step</p>"
   ]
  },
  {
   "cell_type": "code",
   "execution_count": 136,
   "metadata": {},
   "outputs": [],
   "source": [
    "new_w = [wavelength[0]]\n",
    "\n",
    "while new_w[-1] < wavelength[-1]:\n",
    "    w = round(new_w[-1] + h,8)\n",
    "    if w < wavelength[-1]:\n",
    "        new_w.append(w)\n",
    "    else:\n",
    "        break"
   ]
  },
  {
   "cell_type": "markdown",
   "metadata": {},
   "source": [
    "<p style=\"font-size:10pt\">Generation of an interpolation vector of respective data</p> "
   ]
  },
  {
   "cell_type": "code",
   "execution_count": 137,
   "metadata": {},
   "outputs": [
    {
     "name": "stdout",
     "output_type": "stream",
     "text": [
      "wavelength = 250.0, flux = 0.0\n",
      "wavelength = 252.0, flux = 0.0\n",
      "wavelength = 254.0, flux = 0.0\n",
      "wavelength = 256.0, flux = 0.0\n",
      "wavelength = 258.0, flux = 0.0\n",
      "wavelength = 260.0, flux = 0.0\n",
      "wavelength = 262.0, flux = 0.0\n",
      "wavelength = 264.0, flux = 0.0\n",
      "wavelength = 266.0, flux = 0.0\n",
      "wavelength = 268.0, flux = 0.0\n",
      "wavelength = 270.0, flux = 0.0\n",
      "wavelength = 272.0, flux = 0.0\n",
      "wavelength = 274.0, flux = 0.0\n",
      "wavelength = 276.0, flux = 0.0\n",
      "wavelength = 278.0, flux = 0.0\n",
      "wavelength = 280.0, flux = 0.0\n",
      "wavelength = 282.0, flux = 0.0\n",
      "wavelength = 284.0, flux = 0.0\n",
      "wavelength = 286.0, flux = 0.0\n",
      "wavelength = 288.0, flux = 0.0\n",
      "wavelength = 290.0, flux = 0.0\n",
      "wavelength = 292.0, flux = 0.0\n",
      "wavelength = 294.0, flux = 0.0\n",
      "wavelength = 296.0, flux = 0.0\n",
      "wavelength = 298.0, flux = 0.0\n",
      "wavelength = 300.0, flux = 0.0\n",
      "wavelength = 302.0, flux = 0.0\n",
      "wavelength = 304.0, flux = 0.0\n",
      "wavelength = 306.0, flux = 0.0\n",
      "wavelength = 308.0, flux = 0.0\n",
      "wavelength = 310.0, flux = 0.0\n",
      "wavelength = 312.0, flux = 0.0\n",
      "wavelength = 314.0, flux = 0.0\n",
      "wavelength = 316.0, flux = 0.0\n",
      "wavelength = 318.0, flux = 0.0\n",
      "wavelength = 320.0, flux = 0.0\n",
      "wavelength = 322.0, flux = 0.0\n",
      "wavelength = 324.0, flux = 0.0\n",
      "wavelength = 326.0, flux = 0.0\n",
      "wavelength = 328.0, flux = 0.0\n",
      "wavelength = 330.0, flux = 0.0\n",
      "wavelength = 332.0, flux = 0.0\n",
      "wavelength = 334.0, flux = 0.0\n",
      "wavelength = 336.0, flux = 0.0\n",
      "wavelength = 338.0, flux = 0.0\n",
      "wavelength = 340.0, flux = 0.0\n",
      "wavelength = 342.0, flux = 0.0\n",
      "wavelength = 344.0, flux = 0.0\n",
      "wavelength = 346.0, flux = 0.0\n",
      "wavelength = 348.0, flux = 0.0\n",
      "wavelength = 350.0, flux = 0.0\n",
      "wavelength = 352.0, flux = 0.0\n",
      "wavelength = 354.0, flux = 0.0\n",
      "wavelength = 356.0, flux = 0.0\n",
      "wavelength = 358.0, flux = 0.0\n",
      "wavelength = 360.0, flux = 0.0\n",
      "wavelength = 362.0, flux = 0.0\n",
      "wavelength = 364.0, flux = 0.0\n",
      "wavelength = 366.0, flux = 0.0\n",
      "wavelength = 368.0, flux = 0.0\n",
      "wavelength = 370.0, flux = 0.0\n",
      "wavelength = 372.0, flux = 0.0\n",
      "wavelength = 374.0, flux = 0.0\n",
      "wavelength = 376.0, flux = 0.0004986429052002817\n",
      "wavelength = 378.0, flux = 0.0014959287156008452\n",
      "wavelength = 380.0, flux = 0.0024932145260014083\n",
      "wavelength = 382.0, flux = 0.003490500336401972\n",
      "wavelength = 384.0, flux = 0.004487786146802535\n",
      "wavelength = 386.0, flux = 0.005485071957203098\n",
      "wavelength = 388.0, flux = 0.006482357767603662\n",
      "wavelength = 390.0, flux = 0.0074796435780042254\n",
      "wavelength = 392.0, flux = 0.008476929388404789\n",
      "wavelength = 394.0, flux = 0.009474215198805352\n",
      "wavelength = 396.0, flux = 0.010471501009205915\n",
      "wavelength = 398.0, flux = 0.011468786819606478\n",
      "wavelength = 400.0, flux = 0.012466072630007041\n",
      "wavelength = 402.0, flux = 0.01281396150248608\n",
      "wavelength = 404.0, flux = 0.013944600338042956\n",
      "wavelength = 406.0, flux = 0.014988266955480056\n",
      "wavelength = 408.0, flux = 0.016162391900096815\n",
      "wavelength = 410.0, flux = 0.017206058517533915\n",
      "wavelength = 412.0, flux = 0.018206239025911147\n",
      "wavelength = 414.0, flux = 0.019075961207108735\n",
      "wavelength = 416.0, flux = 0.02011962782454585\n",
      "wavelength = 418.0, flux = 0.02146769720540212\n",
      "wavelength = 420.0, flux = 0.02329411378591706\n",
      "wavelength = 422.0, flux = 0.024468238730533803\n",
      "wavelength = 424.0, flux = 0.025772822002330192\n",
      "wavelength = 426.0, flux = 0.029034280181821158\n",
      "wavelength = 428.0, flux = 0.030164919017378028\n",
      "wavelength = 430.0, flux = 0.03316546054250972\n",
      "wavelength = 432.0, flux = 0.034557016032425864\n",
      "wavelength = 434.0, flux = 0.035687654867982734\n",
      "wavelength = 436.0, flux = 0.036426918722000684\n",
      "wavelength = 438.0, flux = 0.03594857152234201\n",
      "wavelength = 440.0, flux = 0.0387316825021743\n",
      "wavelength = 442.0, flux = 0.03860122417499466\n",
      "wavelength = 444.0, flux = 0.039427460247132375\n",
      "wavelength = 446.0, flux = 0.040558099082689245\n",
      "wavelength = 448.0, flux = 0.04181919624542575\n",
      "wavelength = 450.0, flux = 0.04455882111619816\n",
      "wavelength = 452.0, flux = 0.0466026682420125\n",
      "wavelength = 454.0, flux = 0.04755936264132985\n",
      "wavelength = 456.0, flux = 0.050212015293982504\n",
      "wavelength = 458.0, flux = 0.051168709693299855\n",
      "wavelength = 460.0, flux = 0.05195145965637769\n",
      "wavelength = 462.0, flux = 0.052603751292275874\n",
      "wavelength = 464.0, flux = 0.05138614023859925\n",
      "wavelength = 466.0, flux = 0.050777334711760935\n",
      "wavelength = 468.0, flux = 0.04990761253056335\n",
      "wavelength = 470.0, flux = 0.048733487585946596\n",
      "wavelength = 472.0, flux = 0.04655918213295262\n",
      "wavelength = 474.0, flux = 0.045385057188335874\n",
      "wavelength = 476.0, flux = 0.04551551551551551\n",
      "wavelength = 478.0, flux = 0.045211112752096355\n",
      "wavelength = 480.0, flux = 0.039949293555850925\n",
      "wavelength = 482.0, flux = 0.04068855740986888\n",
      "wavelength = 484.0, flux = 0.0408625018461084\n",
      "wavelength = 486.0, flux = 0.04716798765979093\n",
      "wavelength = 488.0, flux = 0.044993682206796955\n",
      "wavelength = 490.0, flux = 0.046515696023892744\n",
      "wavelength = 492.0, flux = 0.04673312656919214\n",
      "wavelength = 494.0, flux = 0.04560248773363527\n",
      "wavelength = 496.0, flux = 0.04342818228064129\n",
      "wavelength = 498.0, flux = 0.04164525180918623\n",
      "wavelength = 500.0, flux = 0.03712269646695876\n",
      "wavelength = 502.0, flux = 0.032382710579431886\n",
      "wavelength = 504.0, flux = 0.028425474654982845\n",
      "wavelength = 506.0, flux = 0.025120530366431998\n",
      "wavelength = 508.0, flux = 0.021641641641641632\n",
      "wavelength = 510.0, flux = 0.017945322371551872\n",
      "wavelength = 512.0, flux = 0.01507523917359982\n",
      "wavelength = 514.0, flux = 0.012118183757528003\n",
      "wavelength = 516.0, flux = 0.009856906086414277\n",
      "wavelength = 518.0, flux = 0.006725906234102949\n",
      "wavelength = 520.0, flux = 0.006508475688803542\n",
      "wavelength = 522.0, flux = 0.0042471980176898155\n",
      "wavelength = 524.0, flux = 0.0032905036183724645\n",
      "wavelength = 526.0, flux = 0.0025947258734143885\n",
      "wavelength = 528.0, flux = 0.002116378673755706\n",
      "wavelength = 530.0, flux = 0.0012684110724025112\n",
      "wavelength = 532.0, flux = 0.0012612612612612484\n",
      "wavelength = 534.0, flux = 0.0011926126126126028\n",
      "wavelength = 536.0, flux = 0.0010857657657657555\n",
      "wavelength = 538.0, flux = 0.00108108108108107\n",
      "wavelength = 540.0, flux = 0.00108108108108107\n",
      "wavelength = 542.0, flux = 0.001046621621621618\n",
      "wavelength = 544.0, flux = 0.0009130630630630579\n",
      "wavelength = 546.0, flux = 0.0007795045045044977\n",
      "wavelength = 548.0, flux = 0.0006010810810810769\n",
      "wavelength = 550.0, flux = 0.00038738738738738947\n",
      "wavelength = 552.0, flux = 0.0003603603603603567\n",
      "wavelength = 554.0, flux = 0.0003603603603603567\n",
      "wavelength = 556.0, flux = 0.0003212355212355193\n",
      "wavelength = 558.0, flux = 0.00024491634491634334\n",
      "wavelength = 560.0, flux = 0.00018018018018017834\n",
      "wavelength = 562.0, flux = 0.00018018018018017834\n",
      "wavelength = 564.0, flux = 0.00017039897039897224\n",
      "wavelength = 566.0, flux = 9.407979407979633e-05\n",
      "wavelength = 568.0, flux = 1.776061776062043e-05\n",
      "wavelength = 570.0, flux = 0.0\n",
      "wavelength = 572.0, flux = 0.0\n",
      "wavelength = 574.0, flux = 0.0\n",
      "wavelength = 576.0, flux = 0.0\n",
      "wavelength = 578.0, flux = 0.0\n",
      "wavelength = 580.0, flux = 0.0\n",
      "wavelength = 582.0, flux = 0.0\n",
      "wavelength = 584.0, flux = 0.0\n",
      "wavelength = 586.0, flux = 0.0\n",
      "wavelength = 588.0, flux = 0.0\n",
      "wavelength = 590.0, flux = 0.0\n",
      "wavelength = 592.0, flux = 0.0\n",
      "wavelength = 594.0, flux = 0.0\n",
      "wavelength = 596.0, flux = 0.0\n",
      "wavelength = 598.0, flux = 0.0\n",
      "wavelength = 600.0, flux = 0.0\n",
      "wavelength = 602.0, flux = 0.0\n",
      "wavelength = 604.0, flux = 0.0\n",
      "wavelength = 606.0, flux = 0.0\n",
      "wavelength = 608.0, flux = 0.0\n",
      "wavelength = 610.0, flux = 0.0\n",
      "wavelength = 612.0, flux = 0.0\n",
      "wavelength = 614.0, flux = 0.0\n",
      "wavelength = 616.0, flux = 0.0\n",
      "wavelength = 618.0, flux = 0.0\n",
      "wavelength = 620.0, flux = 0.0\n",
      "wavelength = 622.0, flux = 0.0\n",
      "wavelength = 624.0, flux = 0.0\n",
      "wavelength = 626.0, flux = 0.0\n",
      "wavelength = 628.0, flux = 0.0\n",
      "wavelength = 630.0, flux = 0.0\n",
      "wavelength = 632.0, flux = 0.0\n",
      "wavelength = 634.0, flux = 0.0\n",
      "wavelength = 636.0, flux = 0.0\n",
      "wavelength = 638.0, flux = 0.0\n",
      "wavelength = 640.0, flux = 0.0\n",
      "wavelength = 642.0, flux = 0.0\n",
      "wavelength = 644.0, flux = 0.0\n",
      "wavelength = 646.0, flux = 0.0\n",
      "wavelength = 648.0, flux = 0.0\n",
      "wavelength = 650.0, flux = 0.0\n",
      "wavelength = 652.0, flux = 0.0\n",
      "wavelength = 654.0, flux = 0.0\n",
      "wavelength = 656.0, flux = 0.0\n",
      "wavelength = 658.0, flux = 0.0\n",
      "wavelength = 660.0, flux = 0.0\n",
      "wavelength = 662.0, flux = 0.0\n",
      "wavelength = 664.0, flux = 0.0\n",
      "wavelength = 666.0, flux = 0.0\n",
      "wavelength = 668.0, flux = 0.0\n",
      "wavelength = 670.0, flux = 0.0\n",
      "wavelength = 672.0, flux = 0.0\n",
      "wavelength = 674.0, flux = 0.0\n",
      "wavelength = 676.0, flux = 0.0\n",
      "wavelength = 678.0, flux = 0.0\n",
      "wavelength = 680.0, flux = 0.0\n",
      "wavelength = 682.0, flux = 0.0\n",
      "wavelength = 684.0, flux = 0.0\n",
      "wavelength = 686.0, flux = 0.0\n",
      "wavelength = 688.0, flux = 0.0\n",
      "wavelength = 690.0, flux = 0.0\n",
      "wavelength = 692.0, flux = 0.0\n",
      "wavelength = 694.0, flux = 0.0\n",
      "wavelength = 696.0, flux = 0.0\n",
      "wavelength = 698.0, flux = 0.0\n",
      "wavelength = 700.0, flux = 0.0\n",
      "wavelength = 702.0, flux = 0.0\n",
      "wavelength = 704.0, flux = 0.0\n",
      "wavelength = 706.0, flux = 0.0\n",
      "wavelength = 708.0, flux = 0.0\n",
      "wavelength = 710.0, flux = 0.0\n",
      "wavelength = 712.0, flux = 0.0\n",
      "wavelength = 714.0, flux = 0.0\n",
      "wavelength = 716.0, flux = 0.0\n",
      "wavelength = 718.0, flux = 0.0\n",
      "wavelength = 720.0, flux = 0.0\n",
      "wavelength = 722.0, flux = 0.0\n",
      "wavelength = 724.0, flux = 0.0\n",
      "wavelength = 726.0, flux = 0.0\n",
      "wavelength = 728.0, flux = 0.0\n",
      "wavelength = 730.0, flux = 0.0\n",
      "wavelength = 732.0, flux = 0.0\n",
      "wavelength = 734.0, flux = 0.0\n",
      "wavelength = 736.0, flux = 0.0\n",
      "wavelength = 738.0, flux = 0.0\n",
      "wavelength = 740.0, flux = 0.0\n",
      "wavelength = 742.0, flux = 0.0\n",
      "wavelength = 744.0, flux = 0.0\n",
      "wavelength = 746.0, flux = 0.0\n",
      "wavelength = 748.0, flux = 0.0\n"
     ]
    }
   ],
   "source": [
    "interpolate = interp1d(wavelength, flux, kind='linear')\n",
    "\n",
    "# List with interpolated flux values\n",
    "new_f = interpolate(new_w)\n",
    "\n",
    "# See interpolated data\n",
    "for i in range(len(new_w)):\n",
    "    print(f'wavelength = {new_w[i]}, flux = {new_f[i]}')"
   ]
  },
  {
   "cell_type": "markdown",
   "metadata": {},
   "source": [
    "<p style=\"font-size:10pt\">Print the Interpolated Data</p> "
   ]
  },
  {
   "cell_type": "code",
   "execution_count": 138,
   "metadata": {},
   "outputs": [],
   "source": [
    "with open(str(Here) + NameFile + \"_Interpolated.csv\", \"w\", encoding=\"utf-8\") as f:\n",
    "    for w in new_w:\n",
    "        f.write(\"%f, %f %s\" % (w, new_f[new_w.index(w)],\"\\n\"))"
   ]
  },
  {
   "cell_type": "markdown",
   "metadata": {},
   "source": [
    "### **4.** Function - Simpson's 3/8 Rule "
   ]
  },
  {
   "cell_type": "markdown",
   "metadata": {},
   "source": [
    "<p style=\"font-size:10pt\">Simpson's 3/8 Integration</p> "
   ]
  },
  {
   "cell_type": "code",
   "execution_count": 139,
   "metadata": {},
   "outputs": [],
   "source": [
    "def simpson38(x, y):\n",
    "    # x, list which contains values of the independent variable\n",
    "    # y, list which contains values of the dependent variable\n",
    "\n",
    "    # calculating step size\n",
    "    data_pairs = len(x)-1\n",
    "    h = (x[-1] - x[0]) / data_pairs\n",
    "    integration = y[0] + y[-1]\n",
    "    \n",
    "    for i in range(1,data_pairs):\n",
    "        k = x[0] + i*h\n",
    "        if i%2 == 0 and k in x:\n",
    "            integration = integration + 2 * round(y[x.index(k)], 8)\n",
    "        elif i%2 == 0 and k in x == False:\n",
    "            integration = integration + 2 * round(y[i], 8)\n",
    "        elif i%2 != 0 and k in x:\n",
    "            integration = integration + 3 * round(y[x.index(k)], 8)\n",
    "        else:\n",
    "            integration = integration + 3 * round(y[i], 8)\n",
    "    \n",
    "    # Finding final integration value\n",
    "    integration = integration * 3 * h / 8\n",
    "    \n",
    "    return integration"
   ]
  },
  {
   "cell_type": "markdown",
   "metadata": {},
   "source": [
    "<p style=\"font-size:10pt\">Defining the Photon vector</p> "
   ]
  },
  {
   "cell_type": "code",
   "execution_count": 126,
   "metadata": {},
   "outputs": [
    {
     "data": {
      "text/plain": [
       "{'photon265': {'low': 250, 'up': 280},\n",
       " 'photon295': {'low': 280, 'up': 310},\n",
       " 'photon325': {'low': 310, 'up': 340},\n",
       " 'photon355': {'low': 340, 'up': 370},\n",
       " 'photon385': {'low': 370, 'up': 400},\n",
       " 'photon415': {'low': 400, 'up': 430},\n",
       " 'photon445': {'low': 430, 'up': 460},\n",
       " 'photon475': {'low': 460, 'up': 490},\n",
       " 'photon505': {'low': 490, 'up': 520},\n",
       " 'photon535': {'low': 520, 'up': 550},\n",
       " 'photon565': {'low': 550, 'up': 580},\n",
       " 'photon595': {'low': 580, 'up': 610},\n",
       " 'photon625': {'low': 610, 'up': 640},\n",
       " 'photon655': {'low': 640, 'up': 670},\n",
       " 'photon685': {'low': 670, 'up': 700}}"
      ]
     },
     "execution_count": 126,
     "metadata": {},
     "output_type": "execute_result"
    }
   ],
   "source": [
    "photStep = 30\n",
    "PhotonVect = {'photon'+str(int(250 + (i+0.5)*photStep)): {\"low\":250+i*photStep, \"up\":250+(i+1)*photStep} for i in range(int(500/photStep)-1)}\n",
    "\n",
    "PhotonVect"
   ]
  },
  {
   "cell_type": "markdown",
   "metadata": {},
   "source": [
    "### **5.** Integrate the Results"
   ]
  },
  {
   "cell_type": "markdown",
   "metadata": {},
   "source": [
    "<p style=\"font-size:10pt\">Finding the Whole Integral</p> "
   ]
  },
  {
   "cell_type": "code",
   "execution_count": 140,
   "metadata": {},
   "outputs": [
    {
     "name": "stdout",
     "output_type": "stream",
     "text": [
      "Simpson 3/8 integral = 4.0282478100000025\n",
      "scipy integral = 4.298862693730675\n",
      "Error: 6.717930\n"
     ]
    }
   ],
   "source": [
    "# Integral value usign Simpson's 3/8 Rule\n",
    "integral = simpson38(new_w, new_f)\n",
    "print(f'Simpson 3/8 integral = {integral}')\n",
    "\n",
    "# Integral value usign Scipy method\n",
    "from scipy import integrate\n",
    "integral_2 = integrate.simpson(new_f, new_w)\n",
    "print(f'scipy integral = {integral_2}')\n",
    "\n",
    "print ('Error: %f' % (100*abs(integral_2-integral)/integral))"
   ]
  },
  {
   "cell_type": "markdown",
   "metadata": {},
   "source": [
    "<p style=\"font-size:10pt\">Integration by wavelength range</p> "
   ]
  },
  {
   "cell_type": "code",
   "execution_count": 141,
   "metadata": {},
   "outputs": [
    {
     "name": "stdout",
     "output_type": "stream",
     "text": [
      "Photon vector = photon265,  low limit = 250, high limit = 280, Simpson 3/8 integral = 0.0\n",
      "Photon vector = photon295,  low limit = 280, high limit = 310, Simpson 3/8 integral = 0.0\n",
      "Photon vector = photon325,  low limit = 310, high limit = 340, Simpson 3/8 integral = 0.0\n",
      "Photon vector = photon355,  low limit = 340, high limit = 370, Simpson 3/8 integral = 0.0\n",
      "Photon vector = photon385,  low limit = 370, high limit = 400, Simpson 3/8 integral = 0.12378809761470487\n",
      "Photon vector = photon415,  low limit = 400, high limit = 430, Simpson 3/8 integral = 0.5210954862355388\n",
      "Photon vector = photon445,  low limit = 430, high limit = 460, Simpson 3/8 integral = 1.0751193901768574\n",
      "Photon vector = photon475,  low limit = 460, high limit = 490, Simpson 3/8 integral = 1.227755618897381\n",
      "Photon vector = photon505,  low limit = 490, high limit = 520, Simpson 3/8 integral = 0.7572902791934966\n",
      "Photon vector = photon535,  low limit = 520, high limit = 550, Simpson 3/8 integral = 0.04742708007741346\n",
      "Photon vector = photon565,  low limit = 550, high limit = 580, Simpson 3/8 integral = 0.003972215540540541\n",
      "Photon vector = photon595,  low limit = 580, high limit = 610, Simpson 3/8 integral = 0.0\n",
      "Photon vector = photon625,  low limit = 610, high limit = 640, Simpson 3/8 integral = 0.0\n",
      "Photon vector = photon655,  low limit = 640, high limit = 670, Simpson 3/8 integral = 0.0\n",
      "Photon vector = photon685,  low limit = 670, high limit = 700, Simpson 3/8 integral = 0.0\n",
      "Total integral = 3.756448167735933\n"
     ]
    }
   ],
   "source": [
    "integralTotal = 0\n",
    "\n",
    "for j, k in PhotonVect.items():\n",
    "    low_w = k.get('low')\n",
    "    high_w= k.get('up')\n",
    "    \n",
    "    low_index = 0\n",
    "    while new_w[low_index] < low_w:\n",
    "        low_index += 1\n",
    "\n",
    "    high_index = 0\n",
    "    while new_w[high_index] < high_w:\n",
    "        high_index += 1\n",
    "    \n",
    "    integralPhoton = simpson38(new_w[low_index:high_index], new_f[low_index:high_index])\n",
    "    PhotonVect[j] = k | {\"Integral\":integralPhoton} \n",
    "    print(f'Photon vector = {j},  low limit = {low_w}, high limit = {high_w}, Simpson 3/8 integral = {integralPhoton}')\n",
    "    integralTotal += integralPhoton\n",
    "\n",
    "print(f'Total integral = {integralTotal}')"
   ]
  },
  {
   "cell_type": "markdown",
   "metadata": {},
   "source": [
    "<p style=\"font-size:10pt\">Getting Stoichiometric coefficients</p> "
   ]
  },
  {
   "cell_type": "code",
   "execution_count": 142,
   "metadata": {},
   "outputs": [
    {
     "data": {
      "text/plain": [
       "{'photon265': {'low': 250,\n",
       "  'up': 280,\n",
       "  'Integral': 0.0,\n",
       "  'Coefficient': 1634.1974706886049},\n",
       " 'photon295': {'low': 280,\n",
       "  'up': 310,\n",
       "  'Integral': 0.0,\n",
       "  'Coefficient': 1634.1974706886049},\n",
       " 'photon325': {'low': 310,\n",
       "  'up': 340,\n",
       "  'Integral': 0.0,\n",
       "  'Coefficient': 1634.1974706886049},\n",
       " 'photon355': {'low': 340,\n",
       "  'up': 370,\n",
       "  'Integral': 0.0,\n",
       "  'Coefficient': 1634.1974706886049},\n",
       " 'photon385': {'low': 370,\n",
       "  'up': 400,\n",
       "  'Integral': 0.12378809761470487,\n",
       "  'Coefficient': 9.91820411295775},\n",
       " 'photon415': {'low': 400,\n",
       "  'up': 430,\n",
       "  'Integral': 0.5210954862355388,\n",
       "  'Coefficient': 2.356104881596359},\n",
       " 'photon445': {'low': 430,\n",
       "  'up': 460,\n",
       "  'Integral': 1.0751193901768574,\n",
       "  'Coefficient': 1.1419714220719384},\n",
       " 'photon475': {'low': 460,\n",
       "  'up': 490,\n",
       "  'Integral': 1.227755618897381,\n",
       "  'Coefficient': 1.0},\n",
       " 'photon505': {'low': 490,\n",
       "  'up': 520,\n",
       "  'Integral': 0.7572902791934966,\n",
       "  'Coefficient': 1.621248354336363},\n",
       " 'photon535': {'low': 520,\n",
       "  'up': 550,\n",
       "  'Integral': 0.04742708007741346,\n",
       "  'Coefficient': 25.887227653344066},\n",
       " 'photon565': {'low': 550,\n",
       "  'up': 580,\n",
       "  'Integral': 0.003972215540540541,\n",
       "  'Coefficient': 309.0858505453376},\n",
       " 'photon595': {'low': 580,\n",
       "  'up': 610,\n",
       "  'Integral': 0.0,\n",
       "  'Coefficient': 1634.1974706886049},\n",
       " 'photon625': {'low': 610,\n",
       "  'up': 640,\n",
       "  'Integral': 0.0,\n",
       "  'Coefficient': 1634.1974706886049},\n",
       " 'photon655': {'low': 640,\n",
       "  'up': 670,\n",
       "  'Integral': 0.0,\n",
       "  'Coefficient': 1634.1974706886049},\n",
       " 'photon685': {'low': 670,\n",
       "  'up': 700,\n",
       "  'Integral': 0.0,\n",
       "  'Coefficient': 1634.1974706886049}}"
      ]
     },
     "execution_count": 142,
     "metadata": {},
     "output_type": "execute_result"
    }
   ],
   "source": [
    "coeff = []\n",
    "\n",
    "if typeR == 'PhotoReaction':\n",
    "    for j, k in PhotonVect.items():\n",
    "        PhotoActiveArea = k.get('Integral')\n",
    "        if PhotoActiveArea != 0:\n",
    "            coeff.append(integralTotal/PhotoActiveArea)\n",
    "        else:\n",
    "            coeff.append(5000)\n",
    "    \n",
    "    min_coeff = min([c for c in coeff])\n",
    "    coeff = [c/min_coeff for c in coeff]\n",
    "elif typeR == 'PrismReaction':\n",
    "    for j, k in PhotonVect.items():\n",
    "        PhotoActiveArea = k.get('Integral')\n",
    "        coeff.append(PhotoActiveArea/integralTotal)\n",
    "\n",
    "count = 0\n",
    "\n",
    "for j, k in PhotonVect.items():\n",
    "    PhotonVect[j] = k | {\"Coefficient\":coeff[count]}\n",
    "    count += 1\n",
    "\n",
    "PhotonVect"
   ]
  },
  {
   "cell_type": "markdown",
   "metadata": {},
   "source": [
    "### **6.** Print the coefficcients for each reaction in a file"
   ]
  },
  {
   "cell_type": "code",
   "execution_count": 144,
   "metadata": {},
   "outputs": [],
   "source": [
    "Reaction = 'Xanthophylls Action Absorption'\n",
    "\n",
    "with open(str(Here) + NameDir + typeR +\" Coefficients.csv\", \"a\", encoding=\"utf-8\") as f:\n",
    "    for name, Dir in PhotonVect.items():\n",
    "        low_w = Dir.get('low')\n",
    "        up_w = Dir.get('up')\n",
    "        StCoef = Dir.get('Coefficient')\n",
    "        f.write(\"%s, %s, %i, %i, %f %s\" % (Reaction, name, low_w, up_w, StCoef,\"\\n\"))"
   ]
  }
 ],
 "metadata": {
  "interpreter": {
   "hash": "e78b838dbb92c3e34af49e05b7fd192af0845ab0b8745d0e9653886abbbfd993"
  },
  "kernelspec": {
   "display_name": "Python 3.9.7 ('cobrapy_env')",
   "language": "python",
   "name": "python3"
  },
  "language_info": {
   "codemirror_mode": {
    "name": "ipython",
    "version": 3
   },
   "file_extension": ".py",
   "mimetype": "text/x-python",
   "name": "python",
   "nbconvert_exporter": "python",
   "pygments_lexer": "ipython3",
   "version": "3.9.7"
  },
  "orig_nbformat": 4
 },
 "nbformat": 4,
 "nbformat_minor": 2
}
