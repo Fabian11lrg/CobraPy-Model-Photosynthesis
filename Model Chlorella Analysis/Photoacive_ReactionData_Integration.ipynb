{
 "cells": [
  {
   "cell_type": "markdown",
   "metadata": {},
   "source": [
    "# Photon Coefficients Calculator for Photoactive or Prism Reactions   "
   ]
  },
  {
   "cell_type": "markdown",
   "metadata": {},
   "source": [
    "## **1.** Import the required packages "
   ]
  },
  {
   "cell_type": "code",
   "execution_count": 1,
   "metadata": {},
   "outputs": [],
   "source": [
    "# Import library\n",
    "from scipy.interpolate import interp1d\n",
    "from pathlib import Path\n",
    "import csv"
   ]
  },
  {
   "cell_type": "markdown",
   "metadata": {},
   "source": [
    "## 2. Import The Data in csv File"
   ]
  },
  {
   "cell_type": "code",
   "execution_count": 182,
   "metadata": {},
   "outputs": [
    {
     "name": "stdout",
     "output_type": "stream",
     "text": [
      "/mnt/c/users/flron/OneDrive/Tesis/Cobrapy Model Development/Models Test/Model Chlorella Analysis/Light emitted from a source/White LED Spectral Irradiance.csv\n"
     ]
    }
   ],
   "source": [
    "Here = Path().absolute()\n",
    "NameDir = '/Light emitted from a source/'\n",
    "NameFile = NameDir + 'White LED Spectral Irradiance'\n",
    "Data_File = str(Here) + NameFile + '.csv'\n",
    "print(Data_File)\n",
    "typeR = 'PrismReaction'"
   ]
  },
  {
   "cell_type": "markdown",
   "metadata": {},
   "source": [
    "##### Creating lists from a .csv file"
   ]
  },
  {
   "cell_type": "code",
   "execution_count": 183,
   "metadata": {},
   "outputs": [],
   "source": [
    "with open(Data_File, \"r\", encoding=\"utf-8\") as f:\n",
    "    lector = csv.reader(f, delimiter=',')\n",
    "    # Omit header\n",
    "    next(lector, None)\n",
    "    # Create a list for each column\n",
    "    wavelength = []\n",
    "    flux = []\n",
    "    for row in lector:\n",
    "        wavelength.append(float(row[0]))\n",
    "        #Column in file to take data\n",
    "        flux.append(float(row[2]))\n",
    "  "
   ]
  },
  {
   "cell_type": "markdown",
   "metadata": {},
   "source": [
    "<p style=\"font-size:10pt\">Sorting the data</p> "
   ]
  },
  {
   "cell_type": "code",
   "execution_count": 184,
   "metadata": {},
   "outputs": [],
   "source": [
    "def sort_list(list1, list2):\n",
    " \n",
    "    zipped_pairs = zip(list2, list1)\n",
    " \n",
    "    z = [x for _, x in sorted(zipped_pairs)]\n",
    "     \n",
    "    return z\n",
    "\n",
    "flux = sort_list(flux, wavelength)\n",
    "wavelength = sorted(wavelength)"
   ]
  },
  {
   "cell_type": "markdown",
   "metadata": {},
   "source": [
    "### **3.** Data interpolation"
   ]
  },
  {
   "cell_type": "markdown",
   "metadata": {},
   "source": [
    "<p style=\"font-size:10pt\">Complement the wavelenght ranges between 250 to 750 nm with 0 Flux</p> "
   ]
  },
  {
   "cell_type": "code",
   "execution_count": 185,
   "metadata": {},
   "outputs": [],
   "source": [
    "steps = 6\n",
    "\n",
    "if wavelength[0] > 250:\n",
    "    lowerRange = wavelength[0] - 250\n",
    "    lowerh = lowerRange/steps\n",
    "    InitWavelength = [250 + i*lowerh for i in range(steps)]\n",
    "    InitFlux = [0 for i in range(steps)]\n",
    "else:\n",
    "    InitWavelength = []\n",
    "    InitFlux = []\n",
    "\n",
    "if wavelength[-1] < 750:\n",
    "    UpperRange = 750 - wavelength[-1]\n",
    "    Upperh = UpperRange/steps\n",
    "    FinalWavelength = [wavelength[-1] + (i+1)*Upperh for i in range(steps)]\n",
    "    FinalFlux = [0 for i in range(steps)]\n",
    "else:\n",
    "    FinalWavelength = []\n",
    "    FinalFlux = []\n",
    "\n",
    "wavelength = InitWavelength + wavelength + FinalWavelength\n",
    "flux = InitFlux + flux + FinalFlux"
   ]
  },
  {
   "cell_type": "markdown",
   "metadata": {},
   "source": [
    "<p style=\"font-size:10pt\">Find the minimal step as difference among two data on x-axis</p>"
   ]
  },
  {
   "cell_type": "code",
   "execution_count": 186,
   "metadata": {},
   "outputs": [
    {
     "name": "stdout",
     "output_type": "stream",
     "text": [
      "The step value is = 2.0\n"
     ]
    }
   ],
   "source": [
    "# List with wavelength values\n",
    "DiffList = []\n",
    "\n",
    "for i in range(0, len(wavelength)-1):\n",
    "    dif = wavelength[i+1] - wavelength[i]\n",
    "    DiffList.append(dif)\n",
    "\n",
    "h = round(min([value for value in DiffList if value!=0]),8)\n",
    "print(f'The step value is = {h}')"
   ]
  },
  {
   "cell_type": "markdown",
   "metadata": {},
   "source": [
    "<p style=\"font-size:10pt\">Generate a new wavelenght vector with a constant step</p>"
   ]
  },
  {
   "cell_type": "code",
   "execution_count": 189,
   "metadata": {},
   "outputs": [],
   "source": [
    "new_w = [wavelength[0]]\n",
    "\n",
    "while new_w[-1] < wavelength[-1]:\n",
    "    w = round(new_w[-1] + h,8)\n",
    "    if w < wavelength[-1]:\n",
    "        new_w.append(w)\n",
    "    else:\n",
    "        break"
   ]
  },
  {
   "cell_type": "markdown",
   "metadata": {},
   "source": [
    "<p style=\"font-size:10pt\">Generation of an interpolation vector of respective data</p> "
   ]
  },
  {
   "cell_type": "code",
   "execution_count": 190,
   "metadata": {},
   "outputs": [
    {
     "name": "stdout",
     "output_type": "stream",
     "text": [
      "wavelength = 250.0, flux = 0.0\n",
      "wavelength = 252.0, flux = 0.0\n",
      "wavelength = 254.0, flux = 0.0\n",
      "wavelength = 256.0, flux = 0.0\n",
      "wavelength = 258.0, flux = 0.0\n",
      "wavelength = 260.0, flux = 0.0\n",
      "wavelength = 262.0, flux = 0.0\n",
      "wavelength = 264.0, flux = 0.0\n",
      "wavelength = 266.0, flux = 0.0\n",
      "wavelength = 268.0, flux = 0.0\n",
      "wavelength = 270.0, flux = 0.0\n",
      "wavelength = 272.0, flux = 0.0\n",
      "wavelength = 274.0, flux = 0.0\n",
      "wavelength = 276.0, flux = 0.0\n",
      "wavelength = 278.0, flux = 0.0\n",
      "wavelength = 280.0, flux = 0.0\n",
      "wavelength = 282.0, flux = 0.0\n",
      "wavelength = 284.0, flux = 0.0\n",
      "wavelength = 286.0, flux = 0.0\n",
      "wavelength = 288.0, flux = 0.0\n",
      "wavelength = 290.0, flux = 0.0\n",
      "wavelength = 292.0, flux = 0.0024734391999998648\n",
      "wavelength = 294.0, flux = 0.0173140743999999\n",
      "wavelength = 296.0, flux = 0.032154709599999935\n",
      "wavelength = 298.0, flux = 0.046995344799999964\n",
      "wavelength = 300.0, flux = 0.06183598\n",
      "wavelength = 302.0, flux = 0.055236696\n",
      "wavelength = 304.0, flux = 0.027370671\n",
      "wavelength = 306.0, flux = 0.02044635\n",
      "wavelength = 308.0, flux = 0.000872491\n",
      "wavelength = 310.0, flux = 0.035108141\n",
      "wavelength = 312.0, flux = 0.064309419\n",
      "wavelength = 314.0, flux = 0.03556115\n",
      "wavelength = 316.0, flux = 0.035787654\n",
      "wavelength = 318.0, flux = 0.028631163\n",
      "wavelength = 320.0, flux = 0.021381804\n",
      "wavelength = 322.0, flux = 0.036467166\n",
      "wavelength = 324.0, flux = 0.014126779\n",
      "wavelength = 326.0, flux = 0.044488906\n",
      "wavelength = 328.0, flux = 0.037146679\n",
      "wavelength = 330.0, flux = 0.022049985\n",
      "wavelength = 332.0, flux = 0.029891654\n",
      "wavelength = 334.0, flux = 0.045580658\n",
      "wavelength = 336.0, flux = 0.006849093\n",
      "wavelength = 338.0, flux = 0.014737196\n",
      "wavelength = 340.0, flux = 0.022718166\n",
      "wavelength = 342.0, flux = 0.030792005\n",
      "wavelength = 344.0, flux = 0.046945348\n",
      "wavelength = 346.0, flux = 0.015086005\n",
      "wavelength = 348.0, flux = 0.03941172\n",
      "wavelength = 350.0, flux = 0.01526041\n",
      "wavelength = 352.0, flux = 0.015347612\n",
      "wavelength = 354.0, flux = 0.015434814\n",
      "wavelength = 356.0, flux = 0.015522017\n",
      "wavelength = 358.0, flux = 0.032232567\n",
      "wavelength = 360.0, flux = 0.015696421\n",
      "wavelength = 362.0, flux = 0.007379082\n",
      "wavelength = 364.0, flux = 0.032772777\n",
      "wavelength = 366.0, flux = 0.015958028\n",
      "wavelength = 368.0, flux = 0.024589074\n",
      "wavelength = 370.0, flux = 0.016132433\n",
      "wavelength = 372.0, flux = 0.024856347\n",
      "wavelength = 374.0, flux = 0.016306838\n",
      "wavelength = 376.0, flux = 0.025123619\n",
      "wavelength = 378.0, flux = 0.016481242\n",
      "wavelength = 380.0, flux = 0.016568445\n",
      "wavelength = 382.0, flux = 0.016655647\n",
      "wavelength = 384.0, flux = 0.016742849\n",
      "wavelength = 386.0, flux = 0.016830052\n",
      "wavelength = 388.0, flux = 0.025925437\n",
      "wavelength = 390.0, flux = 0.017004456\n",
      "wavelength = 392.0, flux = 0.010211493\n",
      "wavelength = 394.0, flux = 0.001116108\n",
      "wavelength = 396.0, flux = 0.008072145\n",
      "wavelength = 398.0, flux = 0.008112913\n",
      "wavelength = 400.0, flux = 0.008153682\n",
      "wavelength = 402.0, flux = 0.017527671\n",
      "wavelength = 404.0, flux = 0.008235219\n",
      "wavelength = 406.0, flux = 0.020002278\n",
      "wavelength = 408.0, flux = 0.017789278\n",
      "wavelength = 410.0, flux = 0.008357524\n",
      "wavelength = 412.0, flux = 0.017963682\n",
      "wavelength = 414.0, flux = 0.027662709\n",
      "wavelength = 416.0, flux = 0.037454603\n",
      "wavelength = 418.0, flux = 0.047339365\n",
      "wavelength = 420.0, flux = 0.057316995\n",
      "wavelength = 422.0, flux = 0.057589933\n",
      "wavelength = 424.0, flux = 0.097238846\n",
      "wavelength = 426.0, flux = 0.107587947\n",
      "wavelength = 428.0, flux = 0.118029916\n",
      "wavelength = 430.0, flux = 0.168497935\n",
      "wavelength = 432.0, flux = 0.209400564\n",
      "wavelength = 434.0, flux = 0.129760705\n",
      "wavelength = 436.0, flux = 0.282197639\n",
      "wavelength = 438.0, flux = 0.344506311\n",
      "wavelength = 440.0, flux = 0.38694126\n",
      "wavelength = 442.0, flux = 0.42974768\n",
      "wavelength = 444.0, flux = 0.534775569\n",
      "wavelength = 446.0, flux = 0.609667837\n",
      "wavelength = 448.0, flux = 0.69561138\n",
      "wavelength = 450.0, flux = 0.824088406\n",
      "wavelength = 452.0, flux = 0.964173914\n",
      "wavelength = 454.0, flux = 1.137088213\n",
      "wavelength = 456.0, flux = 1.322075334\n",
      "wavelength = 458.0, flux = 1.636241655\n",
      "wavelength = 460.0, flux = 1.921061731\n",
      "wavelength = 462.0, flux = 2.197570133\n",
      "wavelength = 464.0, flux = 2.584126954\n",
      "wavelength = 466.0, flux = 2.854923983\n",
      "wavelength = 468.0, flux = 3.12794984\n",
      "wavelength = 470.0, flux = 3.425028474\n",
      "wavelength = 472.0, flux = 3.603979184\n",
      "wavelength = 474.0, flux = 3.751308386\n",
      "wavelength = 476.0, flux = 3.888700726\n",
      "wavelength = 478.0, flux = 3.993821483\n",
      "wavelength = 480.0, flux = 4.099685184\n",
      "wavelength = 482.0, flux = 4.217482405\n",
      "wavelength = 484.0, flux = 4.35858946\n",
      "wavelength = 486.0, flux = 4.47815117\n",
      "wavelength = 488.0, flux = 4.587218812\n",
      "wavelength = 490.0, flux = 4.70840571\n",
      "wavelength = 492.0, flux = 4.807582924\n",
      "wavelength = 494.0, flux = 4.884471851\n",
      "wavelength = 496.0, flux = 4.973340732\n",
      "wavelength = 498.0, flux = 5.06276682\n",
      "wavelength = 500.0, flux = 5.141141632\n",
      "wavelength = 502.0, flux = 5.254945535\n",
      "wavelength = 504.0, flux = 5.439700487\n",
      "wavelength = 506.0, flux = 5.590512233\n",
      "wavelength = 508.0, flux = 5.765933965\n",
      "wavelength = 510.0, flux = 6.001766242\n",
      "wavelength = 512.0, flux = 6.2749314\n",
      "wavelength = 514.0, flux = 6.538113264\n",
      "wavelength = 516.0, flux = 6.934931985\n",
      "wavelength = 518.0, flux = 7.262471278\n",
      "wavelength = 520.0, flux = 7.616477913\n",
      "wavelength = 522.0, flux = 8.118423057\n",
      "wavelength = 524.0, flux = 8.526664525\n",
      "wavelength = 526.0, flux = 8.937784897\n",
      "wavelength = 528.0, flux = 9.364042731\n",
      "wavelength = 530.0, flux = 9.854797297\n",
      "wavelength = 532.0, flux = 10.29958227\n",
      "wavelength = 534.0, flux = 10.69784044\n",
      "wavelength = 536.0, flux = 11.22323472\n",
      "wavelength = 538.0, flux = 11.62734357\n",
      "wavelength = 540.0, flux = 11.97145978\n",
      "wavelength = 542.0, flux = 12.3681392\n",
      "wavelength = 544.0, flux = 12.65374865\n",
      "wavelength = 546.0, flux = 12.92844613\n",
      "wavelength = 548.0, flux = 13.16664654\n",
      "wavelength = 550.0, flux = 13.53393328\n",
      "wavelength = 552.0, flux = 13.82664712\n",
      "wavelength = 554.0, flux = 14.10826325\n",
      "wavelength = 556.0, flux = 14.39155101\n",
      "wavelength = 558.0, flux = 14.57286985\n",
      "wavelength = 560.0, flux = 14.61210086\n",
      "wavelength = 562.0, flux = 14.86000596\n",
      "wavelength = 564.0, flux = 15.01764349\n",
      "wavelength = 566.0, flux = 15.17602397\n",
      "wavelength = 568.0, flux = 15.32196015\n",
      "wavelength = 570.0, flux = 15.48178008\n",
      "wavelength = 572.0, flux = 15.58922254\n",
      "wavelength = 574.0, flux = 15.67038339\n",
      "wavelength = 576.0, flux = 15.77847592\n",
      "wavelength = 578.0, flux = 15.8466817\n",
      "wavelength = 580.0, flux = 15.91498035\n",
      "wavelength = 582.0, flux = 15.96985959\n",
      "wavelength = 584.0, flux = 16.01118012\n",
      "wavelength = 586.0, flux = 16.0251975\n",
      "wavelength = 588.0, flux = 16.03893628\n",
      "wavelength = 590.0, flux = 16.05239646\n",
      "wavelength = 592.0, flux = 16.0243447\n",
      "wavelength = 594.0, flux = 16.02331749\n",
      "wavelength = 596.0, flux = 15.99424418\n",
      "wavelength = 598.0, flux = 15.93684617\n",
      "wavelength = 600.0, flux = 15.8926354\n",
      "wavelength = 602.0, flux = 15.77789149\n",
      "wavelength = 604.0, flux = 15.71812535\n",
      "wavelength = 606.0, flux = 15.64354679\n",
      "wavelength = 608.0, flux = 15.53990059\n",
      "wavelength = 610.0, flux = 15.44939519\n",
      "wavelength = 612.0, flux = 15.35796111\n",
      "wavelength = 614.0, flux = 15.2228327\n",
      "wavelength = 616.0, flux = 15.02929041\n",
      "wavelength = 618.0, flux = 14.86286553\n",
      "wavelength = 620.0, flux = 14.72383667\n",
      "wavelength = 622.0, flux = 14.49695481\n",
      "wavelength = 624.0, flux = 14.3407454\n",
      "wavelength = 626.0, flux = 14.15416819\n",
      "wavelength = 628.0, flux = 13.90778408\n",
      "wavelength = 630.0, flux = 13.70342268\n",
      "wavelength = 632.0, flux = 13.49748252\n",
      "wavelength = 634.0, flux = 13.24580494\n",
      "wavelength = 636.0, flux = 13.007036\n",
      "wavelength = 638.0, flux = 12.81093983\n",
      "wavelength = 640.0, flux = 12.56878121\n",
      "wavelength = 642.0, flux = 12.30995281\n",
      "wavelength = 644.0, flux = 12.04926704\n",
      "wavelength = 646.0, flux = 11.83171841\n",
      "wavelength = 648.0, flux = 11.52232345\n",
      "wavelength = 650.0, flux = 11.28624767\n",
      "wavelength = 652.0, flux = 11.03336281\n",
      "wavelength = 654.0, flux = 10.73316177\n",
      "wavelength = 656.0, flux = 10.47660863\n",
      "wavelength = 658.0, flux = 10.24884453\n",
      "wavelength = 660.0, flux = 10.00417847\n",
      "wavelength = 662.0, flux = 9.711731898\n",
      "wavelength = 664.0, flux = 9.463583298\n",
      "wavelength = 666.0, flux = 9.229225575\n",
      "wavelength = 668.0, flux = 8.915744432\n",
      "wavelength = 670.0, flux = 8.677997033\n",
      "wavelength = 672.0, flux = 8.469874482\n",
      "wavelength = 674.0, flux = 8.182117738\n",
      "wavelength = 676.0, flux = 7.970976982\n",
      "wavelength = 678.0, flux = 7.726961001\n",
      "wavelength = 680.0, flux = 7.449791193\n",
      "wavelength = 682.0, flux = 7.218358809\n",
      "wavelength = 684.0, flux = 7.017201348\n",
      "wavelength = 686.0, flux = 6.814743737\n",
      "wavelength = 688.0, flux = 6.547092885\n",
      "wavelength = 690.0, flux = 6.373888652\n",
      "wavelength = 692.0, flux = 6.167437723\n",
      "wavelength = 694.0, flux = 5.927461495\n",
      "wavelength = 696.0, flux = 5.734476406\n",
      "wavelength = 698.0, flux = 5.57269492\n",
      "wavelength = 700.0, flux = 5.31238063\n",
      "wavelength = 702.0, flux = 5.180874068\n",
      "wavelength = 704.0, flux = 5.015842206\n",
      "wavelength = 706.0, flux = 4.866179977\n",
      "wavelength = 708.0, flux = 4.666276232\n",
      "wavelength = 710.0, flux = 4.498133298\n",
      "wavelength = 712.0, flux = 4.362029776\n",
      "wavelength = 714.0, flux = 4.191936616\n",
      "wavelength = 716.0, flux = 4.037445258\n",
      "wavelength = 718.0, flux = 3.915364784\n",
      "wavelength = 720.0, flux = 3.725676504\n",
      "wavelength = 722.0, flux = 3.618687059\n",
      "wavelength = 724.0, flux = 3.494238454\n",
      "wavelength = 726.0, flux = 3.385902424\n",
      "wavelength = 728.0, flux = 3.243112417\n",
      "wavelength = 730.0, flux = 3.099486598\n",
      "wavelength = 732.0, flux = 2.989014608\n",
      "wavelength = 734.0, flux = 2.877892542\n",
      "wavelength = 736.0, flux = 2.766120401\n",
      "wavelength = 738.0, flux = 2.670832306\n",
      "wavelength = 740.0, flux = 2.506264784\n",
      "wavelength = 742.0, flux = 2.426903528\n",
      "wavelength = 744.0, flux = 2.381624779\n",
      "wavelength = 746.0, flux = 2.249468142\n",
      "wavelength = 748.0, flux = 2.186033724\n",
      "wavelength = 750.0, flux = 2.122227836\n",
      "wavelength = 752.0, flux = 2.058050476\n",
      "wavelength = 754.0, flux = 1.993501644\n",
      "wavelength = 756.0, flux = 1.893477288\n",
      "wavelength = 758.0, flux = 1.828092646\n",
      "wavelength = 760.0, flux = 1.762336532\n",
      "wavelength = 762.0, flux = 1.696208947\n",
      "wavelength = 764.0, flux = 1.611972128\n",
      "wavelength = 766.0, flux = 1.562839362\n",
      "wavelength = 768.0, flux = 1.495597362\n",
      "wavelength = 770.0, flux = 1.445860955\n",
      "wavelength = 772.0, flux = 1.377922447\n",
      "wavelength = 774.0, flux = 1.34555233\n",
      "wavelength = 776.0, flux = 1.258947381\n",
      "wavelength = 778.0, flux = 1.226066491\n",
      "wavelength = 780.0, flux = 1.156781398\n",
      "wavelength = 782.0, flux = 1.087124834\n",
      "wavelength = 784.0, flux = 1.053501002\n",
      "wavelength = 786.0, flux = 1.019691433\n",
      "wavelength = 788.0, flux = 0.985696129\n",
      "wavelength = 790.0, flux = 0.969856493\n",
      "wavelength = 792.0, flux = 0.898760477\n",
      "wavelength = 794.0, flux = 0.882595803\n",
      "wavelength = 796.0, flux = 0.866338261\n",
      "wavelength = 798.0, flux = 0.812933573\n",
      "wavelength = 800.0, flux = 0.796397428\n",
      "wavelength = 802.0, flux = 0.761148408\n",
      "wavelength = 804.0, flux = 0.725713652\n",
      "wavelength = 806.0, flux = 0.708806035\n",
      "wavelength = 808.0, flux = 0.673046241\n",
      "wavelength = 810.0, flux = 0.655906455\n",
      "wavelength = 812.0, flux = 0.6386738\n",
      "wavelength = 814.0, flux = 0.621348278\n",
      "wavelength = 816.0, flux = 0.603929888\n",
      "wavelength = 818.0, flux = 0.548435673\n",
      "wavelength = 820.0, flux = 0.568814504\n",
      "wavelength = 822.0, flux = 0.512948818\n",
      "wavelength = 824.0, flux = 0.495066088\n",
      "wavelength = 826.0, flux = 0.477090491\n",
      "wavelength = 828.0, flux = 0.478245673\n",
      "wavelength = 830.0, flux = 0.402320528\n",
      "wavelength = 832.0, flux = 0.422606491\n",
      "wavelength = 834.0, flux = 0.442985322\n",
      "wavelength = 836.0, flux = 0.385819486\n",
      "wavelength = 838.0, flux = 0.386742499\n",
      "wavelength = 840.0, flux = 0.329158757\n",
      "wavelength = 842.0, flux = 0.310393783\n",
      "wavelength = 844.0, flux = 0.350321299\n",
      "wavelength = 846.0, flux = 0.311868338\n",
      "wavelength = 848.0, flux = 0.332293603\n",
      "wavelength = 850.0, flux = 0.27387405\n",
      "wavelength = 852.0, flux = 0.294299315\n",
      "wavelength = 854.0, flux = 0.275162869\n",
      "wavelength = 856.0, flux = 0.295681002\n",
      "wavelength = 858.0, flux = 0.236611374\n",
      "wavelength = 860.0, flux = 0.257129507\n",
      "wavelength = 862.0, flux = 0.137649333\n",
      "wavelength = 864.0, flux = 0.238265999\n",
      "wavelength = 866.0, flux = 0.238817541\n",
      "wavelength = 868.0, flux = 0.239369083\n",
      "wavelength = 870.0, flux = 0.219721864\n",
      "wavelength = 872.0, flux = 0.199981777\n",
      "wavelength = 874.0, flux = 0.220732079\n",
      "wavelength = 876.0, flux = 0.221237187\n",
      "wavelength = 878.0, flux = 0.201357798\n",
      "wavelength = 880.0, flux = 0.201816472\n",
      "wavelength = 882.0, flux = 0.161320417\n",
      "wavelength = 884.0, flux = 0.223257618\n",
      "wavelength = 886.0, flux = 0.203192493\n",
      "wavelength = 888.0, flux = 0.100567837\n",
      "wavelength = 890.0, flux = 0.183446741\n",
      "wavelength = 892.0, flux = 0.059601778\n",
      "wavelength = 894.0, flux = 0.163515253\n",
      "wavelength = 896.0, flux = 0.122276256\n",
      "wavelength = 898.0, flux = 0.080851522\n"
     ]
    }
   ],
   "source": [
    "interpolate = interp1d(wavelength, flux, kind='linear')\n",
    "\n",
    "# List with interpolated flux values\n",
    "new_f = interpolate(new_w)\n",
    "\n",
    "# See interpolated data\n",
    "for i in range(len(new_w)):\n",
    "    print(f'wavelength = {new_w[i]}, flux = {new_f[i]}')"
   ]
  },
  {
   "cell_type": "markdown",
   "metadata": {},
   "source": [
    "<p style=\"font-size:10pt\">Print the Interpolated Data</p> "
   ]
  },
  {
   "cell_type": "code",
   "execution_count": 191,
   "metadata": {},
   "outputs": [],
   "source": [
    "with open(str(Here) + NameFile + \"_Interpolated.csv\", \"w\", encoding=\"utf-8\") as f:\n",
    "    for w in new_w:\n",
    "        f.write(\"%f, %f %s\" % (w, new_f[new_w.index(w)],\"\\n\"))"
   ]
  },
  {
   "cell_type": "markdown",
   "metadata": {},
   "source": [
    "### **4.** Function - Simpson's 3/8 Rule "
   ]
  },
  {
   "cell_type": "markdown",
   "metadata": {},
   "source": [
    "<p style=\"font-size:10pt\">Simpson's 3/8 Integration</p> "
   ]
  },
  {
   "cell_type": "code",
   "execution_count": 192,
   "metadata": {},
   "outputs": [],
   "source": [
    "def simpson38(x, y):\n",
    "    # x, list which contains values of the independent variable\n",
    "    # y, list which contains values of the dependent variable\n",
    "\n",
    "    # calculating step size\n",
    "    data_pairs = len(x)-1\n",
    "    h = (x[-1] - x[0]) / data_pairs\n",
    "    integration = y[0] + y[-1]\n",
    "    \n",
    "    for i in range(1,data_pairs):\n",
    "        k = x[0] + i*h\n",
    "        if i%2 == 0 and k in x:\n",
    "            integration = integration + 2 * round(y[x.index(k)], 8)\n",
    "        elif i%2 == 0 and k in x == False:\n",
    "            integration = integration + 2 * round(y[i], 8)\n",
    "        elif i%2 != 0 and k in x:\n",
    "            integration = integration + 3 * round(y[x.index(k)], 8)\n",
    "        else:\n",
    "            integration = integration + 3 * round(y[i], 8)\n",
    "    \n",
    "    # Finding final integration value\n",
    "    integration = integration * 3 * h / 8\n",
    "    \n",
    "    return integration"
   ]
  },
  {
   "cell_type": "markdown",
   "metadata": {},
   "source": [
    "<p style=\"font-size:10pt\">Defining the Photon vector</p> "
   ]
  },
  {
   "cell_type": "code",
   "execution_count": 193,
   "metadata": {},
   "outputs": [
    {
     "data": {
      "text/plain": [
       "{'photon265': {'low': 250, 'up': 280},\n",
       " 'photon295': {'low': 280, 'up': 310},\n",
       " 'photon325': {'low': 310, 'up': 340},\n",
       " 'photon355': {'low': 340, 'up': 370},\n",
       " 'photon385': {'low': 370, 'up': 400},\n",
       " 'photon415': {'low': 400, 'up': 430},\n",
       " 'photon445': {'low': 430, 'up': 460},\n",
       " 'photon475': {'low': 460, 'up': 490},\n",
       " 'photon505': {'low': 490, 'up': 520},\n",
       " 'photon535': {'low': 520, 'up': 550},\n",
       " 'photon565': {'low': 550, 'up': 580},\n",
       " 'photon595': {'low': 580, 'up': 610},\n",
       " 'photon625': {'low': 610, 'up': 640},\n",
       " 'photon655': {'low': 640, 'up': 670},\n",
       " 'photon685': {'low': 670, 'up': 700}}"
      ]
     },
     "execution_count": 193,
     "metadata": {},
     "output_type": "execute_result"
    }
   ],
   "source": [
    "photStep = 30\n",
    "PhotonVect = {'photon'+str(int(250 + (i+0.5)*photStep)): {\"low\":250+i*photStep, \"up\":250+(i+1)*photStep} for i in range(int(500/photStep)-1)}\n",
    "\n",
    "PhotonVect"
   ]
  },
  {
   "cell_type": "markdown",
   "metadata": {},
   "source": [
    "### **5.** Integrate the Results"
   ]
  },
  {
   "cell_type": "markdown",
   "metadata": {},
   "source": [
    "<p style=\"font-size:10pt\">Finding the Whole Integral</p> "
   ]
  },
  {
   "cell_type": "code",
   "execution_count": 194,
   "metadata": {},
   "outputs": [
    {
     "name": "stdout",
     "output_type": "stream",
     "text": [
      "Simpson 3/8 integral = 2614.0154800214996\n",
      "scipy integral = 2788.2683755743997\n",
      "Error: 6.666100\n"
     ]
    }
   ],
   "source": [
    "# Integral value usign Simpson's 3/8 Rule\n",
    "integral = simpson38(new_w, new_f)\n",
    "print(f'Simpson 3/8 integral = {integral}')\n",
    "\n",
    "# Integral value usign Scipy method\n",
    "from scipy import integrate\n",
    "integral_2 = integrate.simpson(new_f, new_w)\n",
    "print(f'scipy integral = {integral_2}')\n",
    "\n",
    "print ('Error: %f' % (100*abs(integral_2-integral)/integral))"
   ]
  },
  {
   "cell_type": "markdown",
   "metadata": {},
   "source": [
    "<p style=\"font-size:10pt\">Integration by wavelength range</p> "
   ]
  },
  {
   "cell_type": "code",
   "execution_count": 195,
   "metadata": {},
   "outputs": [
    {
     "name": "stdout",
     "output_type": "stream",
     "text": [
      "Photon vector = photon265,  low limit = 250, high limit = 280, Simpson 3/8 integral = 0.0\n",
      "Photon vector = photon295,  low limit = 280, high limit = 310, Simpson 3/8 integral = 0.5013896032499999\n",
      "Photon vector = photon325,  low limit = 310, high limit = 340, Simpson 3/8 integral = 0.82791195525\n",
      "Photon vector = photon355,  low limit = 340, high limit = 370, Simpson 3/8 integral = 0.581345805\n",
      "Photon vector = photon385,  low limit = 370, high limit = 400, Simpson 3/8 integral = 0.431651277\n",
      "Photon vector = photon415,  low limit = 400, high limit = 430, Simpson 3/8 integral = 1.0922873385\n",
      "Photon vector = photon445,  low limit = 430, high limit = 460, Simpson 3/8 integral = 16.454988630000003\n",
      "Photon vector = photon475,  low limit = 460, high limit = 490, Simpson 3/8 integral = 93.44190096225\n",
      "Photon vector = photon505,  low limit = 490, high limit = 520, Simpson 3/8 integral = 147.4865386485\n",
      "Photon vector = photon535,  low limit = 520, high limit = 550, Simpson 3/8 integral = 279.34418519474997\n",
      "Photon vector = photon565,  low limit = 550, high limit = 580, Simpson 3/8 integral = 392.0490534375\n",
      "Photon vector = photon595,  low limit = 580, high limit = 610, Simpson 3/8 integral = 417.8257346025\n",
      "Photon vector = photon625,  low limit = 610, high limit = 640, Simpson 3/8 integral = 374.41863096750006\n",
      "Photon vector = photon655,  low limit = 640, high limit = 670, Simpson 3/8 integral = 282.4768657665\n",
      "Photon vector = photon685,  low limit = 670, high limit = 700, Simpson 3/8 integral = 185.10623089725001\n",
      "Total integral = 2192.03871508575\n"
     ]
    }
   ],
   "source": [
    "integralTotal = 0\n",
    "\n",
    "for j, k in PhotonVect.items():\n",
    "    low_w = k.get('low')\n",
    "    high_w= k.get('up')\n",
    "    \n",
    "    low_index = 0\n",
    "    while new_w[low_index] < low_w:\n",
    "        low_index += 1\n",
    "\n",
    "    high_index = 0\n",
    "    while new_w[high_index] < high_w:\n",
    "        high_index += 1\n",
    "    \n",
    "    integralPhoton = simpson38(new_w[low_index:high_index], new_f[low_index:high_index])\n",
    "    PhotonVect[j] = k | {\"Integral\":integralPhoton} \n",
    "    print(f'Photon vector = {j},  low limit = {low_w}, high limit = {high_w}, Simpson 3/8 integral = {integralPhoton}')\n",
    "    integralTotal += integralPhoton\n",
    "\n",
    "print(f'Total integral = {integralTotal}')"
   ]
  },
  {
   "cell_type": "markdown",
   "metadata": {},
   "source": [
    "<p style=\"font-size:10pt\">Getting Stoichiometric coefficients</p> "
   ]
  },
  {
   "cell_type": "code",
   "execution_count": 196,
   "metadata": {},
   "outputs": [
    {
     "data": {
      "text/plain": [
       "{'photon265': {'low': 250, 'up': 280, 'Integral': 0.0, 'Coefficient': 0.0},\n",
       " 'photon295': {'low': 280,\n",
       "  'up': 310,\n",
       "  'Integral': 0.5013896032499999,\n",
       "  'Coefficient': 0.00022873209300520322},\n",
       " 'photon325': {'low': 310,\n",
       "  'up': 340,\n",
       "  'Integral': 0.82791195525,\n",
       "  'Coefficient': 0.0003776903891123169},\n",
       " 'photon355': {'low': 340,\n",
       "  'up': 370,\n",
       "  'Integral': 0.581345805,\n",
       "  'Coefficient': 0.0002652078181827452},\n",
       " 'photon385': {'low': 370,\n",
       "  'up': 400,\n",
       "  'Integral': 0.431651277,\n",
       "  'Coefficient': 0.00019691772505172852},\n",
       " 'photon415': {'low': 400,\n",
       "  'up': 430,\n",
       "  'Integral': 1.0922873385,\n",
       "  'Coefficient': 0.0004982974666381616},\n",
       " 'photon445': {'low': 430,\n",
       "  'up': 460,\n",
       "  'Integral': 16.454988630000003,\n",
       "  'Coefficient': 0.00750670529528321},\n",
       " 'photon475': {'low': 460,\n",
       "  'up': 490,\n",
       "  'Integral': 93.44190096225,\n",
       "  'Coefficient': 0.04262785156082185},\n",
       " 'photon505': {'low': 490,\n",
       "  'up': 520,\n",
       "  'Integral': 147.4865386485,\n",
       "  'Coefficient': 0.06728281650934732},\n",
       " 'photon535': {'low': 520,\n",
       "  'up': 550,\n",
       "  'Integral': 279.34418519474997,\n",
       "  'Coefficient': 0.12743578992117496},\n",
       " 'photon565': {'low': 550,\n",
       "  'up': 580,\n",
       "  'Integral': 392.0490534375,\n",
       "  'Coefficient': 0.17885133631052838},\n",
       " 'photon595': {'low': 580,\n",
       "  'up': 610,\n",
       "  'Integral': 417.8257346025,\n",
       "  'Coefficient': 0.19061056345720387},\n",
       " 'photon625': {'low': 610,\n",
       "  'up': 640,\n",
       "  'Integral': 374.41863096750006,\n",
       "  'Coefficient': 0.17080840242041676},\n",
       " 'photon655': {'low': 640,\n",
       "  'up': 670,\n",
       "  'Integral': 282.4768657665,\n",
       "  'Coefficient': 0.12886490727671743},\n",
       " 'photon685': {'low': 670,\n",
       "  'up': 700,\n",
       "  'Integral': 185.10623089725001,\n",
       "  'Coefficient': 0.08444478175651604}}"
      ]
     },
     "execution_count": 196,
     "metadata": {},
     "output_type": "execute_result"
    }
   ],
   "source": [
    "coeff = []\n",
    "\n",
    "if typeR == 'PhotoReaction':\n",
    "    for j, k in PhotonVect.items():\n",
    "        PhotoActiveArea = k.get('Integral')\n",
    "        if PhotoActiveArea != 0:\n",
    "            coeff.append(integralTotal/PhotoActiveArea)\n",
    "        else:\n",
    "            coeff.append(5000)\n",
    "    \n",
    "    min_coeff = min([c for c in coeff])\n",
    "    coeff = [c/min_coeff for c in coeff]\n",
    "elif typeR == 'PrismReaction':\n",
    "    for j, k in PhotonVect.items():\n",
    "        PhotoActiveArea = k.get('Integral')\n",
    "        coeff.append(PhotoActiveArea/integralTotal)\n",
    "\n",
    "count = 0\n",
    "\n",
    "for j, k in PhotonVect.items():\n",
    "    PhotonVect[j] = k | {\"Coefficient\":coeff[count]}\n",
    "    count += 1\n",
    "\n",
    "PhotonVect"
   ]
  },
  {
   "cell_type": "markdown",
   "metadata": {},
   "source": [
    "### **6.** Print the coefficcients for each reaction in a file"
   ]
  },
  {
   "cell_type": "code",
   "execution_count": 197,
   "metadata": {},
   "outputs": [],
   "source": [
    "Reaction = 'White LED Spectral Irradiance'\n",
    "\n",
    "with open(str(Here) + NameDir + typeR +\" Coefficients.csv\", \"a\", encoding=\"utf-8\") as f:\n",
    "    for name, Dir in PhotonVect.items():\n",
    "        low_w = Dir.get('low')\n",
    "        up_w = Dir.get('up')\n",
    "        StCoef = Dir.get('Coefficient')\n",
    "        f.write(\"%s, %s, %i, %i, %f %s\" % (Reaction, name, low_w, up_w, StCoef,\"\\n\"))"
   ]
  }
 ],
 "metadata": {
  "interpreter": {
   "hash": "e78b838dbb92c3e34af49e05b7fd192af0845ab0b8745d0e9653886abbbfd993"
  },
  "kernelspec": {
   "display_name": "Python 3.9.7 ('cobrapy_env')",
   "language": "python",
   "name": "python3"
  },
  "language_info": {
   "codemirror_mode": {
    "name": "ipython",
    "version": 3
   },
   "file_extension": ".py",
   "mimetype": "text/x-python",
   "name": "python",
   "nbconvert_exporter": "python",
   "pygments_lexer": "ipython3",
   "version": "3.9.7"
  },
  "orig_nbformat": 4
 },
 "nbformat": 4,
 "nbformat_minor": 2
}
